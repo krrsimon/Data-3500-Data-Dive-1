{
 "cells": [
  {
   "cell_type": "markdown",
   "id": "08baf5b9",
   "metadata": {},
   "source": [
    "# Tornadoes [1950-2022]"
   ]
  },
  {
   "cell_type": "markdown",
   "id": "3bbe8716",
   "metadata": {},
   "source": [
    "Source: https://www.kaggle.com/datasets/sujaykapadnis/tornados\n",
    "\n"
   ]
  },
  {
   "cell_type": "markdown",
   "id": "254c6143",
   "metadata": {},
   "source": [
    "### Scenario:\n",
    "- We are hired by NOAA to investigate the US tornadic activity from historical data, from 1950 to today.\n",
    "\n",
    "### Objectives:\n",
    "- Understand the historical trends of tornadoes. This includes examination of qualities such as severity, duration, and geographical area affected.\n",
    "- Determine how these qualities have changed over time by comparing old figures to those from present day.\n",
    "- Make statement(s) about the pattern(s) in tornadic activity we find. We hope to use any found information to make recommendations for next steps in more robust efforts to quantify future expectations of tornadic activity, such as predictive modeling and forecasting.  \n",
    "- \n",
    "-\n",
    "\n",
    "### Questions:\n",
    "1. **Tornado severity**\n",
    "- Has the length of paths changed? (look at both the average, and median)\n",
    "- Has the severity (on F/EF scale) changed?\n",
    "\n",
    "2. **Tornado freqency**\n",
    "- Has tornado frequency increased over time?\n",
    "- Has the freqency of more severe tornados increased over time?\n",
    "\n",
    "3. **Tornado zone** (Optional)\n",
    "- Has \"tornado alley\" increased/decreased in size over time? (look at \"states effected\")\n",
    "- And/or has this area moved?  \n",
    "\n"
   ]
  },
  {
   "cell_type": "markdown",
   "id": "6750dde5",
   "metadata": {},
   "source": [
    "### Data Acquisition\n",
    "`Tornadoes.csv`"
   ]
  },
  {
   "cell_type": "code",
   "execution_count": null,
   "id": "7024e681",
   "metadata": {},
   "outputs": [],
   "source": [
    "import pandas as pd\n",
    "\n",
    "tornadoes = pd.read_csv('tornados.csv', index_col=None)\n",
    "tornadoes.head()"
   ]
  },
  {
   "cell_type": "code",
   "execution_count": null,
   "id": "faecc321",
   "metadata": {},
   "outputs": [],
   "source": [
    "tornadoes.info()"
   ]
  },
  {
   "cell_type": "markdown",
   "id": "f77fb6d4",
   "metadata": {},
   "source": [
    "variables:\n",
    "\n",
    "- `om`: Integer - Tornado number. Effectively an ID for this tornado in this year.\n",
    "- `yr`: Integer - Year, 1950-2022.\n",
    "- `mo`: Integer - Month, 1-12.\n",
    "- `dy`: Integer - Day of the month, 1-31.\n",
    "- `date`: Date - Date.\n",
    "- `time`: Time - Time.\n",
    "- `tz`: Character - Canonical tz database timezone.\n",
    "- `datetime_utc`: Datetime - Date and time normalized to UTC.\n",
    "- `st`: Character - Two-letter postal abbreviation for the state (DC = Washington, DC; PR = Puerto Rico; VI = Virgin Islands).\n",
    "- `stf`: Integer - State FIPS (Federal Information Processing Standards) number.\n",
    "- `mag`: Integer - Magnitude on the F scale (EF beginning in 2007). Some of these values are estimated (see fc).\n",
    "- `inj`: Integer - Number of injuries. When summing for state totals, use sn == 1 (see below).\n",
    "- `fat`: Integer - Number of fatalities. When summing for state totals, use sn == 1 (see below).\n",
    "- `loss`: Double - Estimated property loss information in dollars. Prior to 1996, values were grouped into ranges. The reported number for such years is the maximum of its range.\n",
    "- `slat`: Double - Starting latitude in decimal degrees.\n",
    "- `slon`: Double - Starting longitude in decimal degrees.\n",
    "- `elat`: Double - Ending latitude in decimal degrees.\n",
    "- `elon`: Double - Ending longitude in decimal degrees.\n",
    "- `len`: Double - Length in miles.\n",
    "- `wid`: Double - Width in yards.\n",
    "- `ns`: Integer - Number of states affected by this tornado. 1, 2, or 3.\n",
    "- `sn`: Integer - State number for this row. 1 means the row contains the entire track information for this state, 0 means there is at least one more entry for this state for this tornado (om + yr).\n",
    "- `f1`: Integer - FIPS code for the 1st county.\n",
    "- `f2`: Integer - FIPS code for the 2nd county.\n",
    "- `f3`: Integer - FIPS code for the 3rd county.\n",
    "- `f4`: Integer - FIPS code for the 4th county.\n",
    "- `fc`: Logical - Was the mag column estimated?"
   ]
  },
  {
   "cell_type": "markdown",
   "id": "92487729",
   "metadata": {},
   "source": [
    "### Initial Data Exploration\n",
    "1. check dataset shape\n",
    "2. check data types\n",
    "3. obtain basic statistics for quantitative/numeric columns"
   ]
  },
  {
   "cell_type": "code",
   "execution_count": null,
   "id": "397ba116",
   "metadata": {},
   "outputs": [],
   "source": [
    "# Get the size of the dataset\n",
    "print(\"~~~~~~~~~~~~~~~~~~~~~~~~~~~~~~~~~~~~~~~~~~~~~~~~~~~~~~~~~~~~~~~~~~~~~~~~~~~~~~~~~~~~~~~~~~~~~~~~~~~~~~~~~~\\nThere are \" + str(tornadoes.shape[1]) + \" columns and \" + str(tornadoes.shape[0]) + \" rows.\\n~~~~~~~~~~~~~~~~~~~~~~~~~~~~~~~~~~~~~~~~~~~~~~~~~~~~~~~~~~~~~~~~~~~~~~~~~~~~~~~~~~~~~~~~~~~~~~~~~~~~~~~~~~\\n\")"
   ]
  },
  {
   "cell_type": "code",
   "execution_count": null,
   "id": "0f5d6482",
   "metadata": {},
   "outputs": [],
   "source": [
    "# Display columns in tornadoes\n",
    "tornadoes.columns"
   ]
  },
  {
   "cell_type": "code",
   "execution_count": null,
   "id": "2f4b94d0",
   "metadata": {},
   "outputs": [],
   "source": [
    "# Display dtypes of all variables\n",
    "tornadoes.dtypes"
   ]
  },
  {
   "cell_type": "code",
   "execution_count": null,
   "id": "2e3bf02f",
   "metadata": {},
   "outputs": [],
   "source": [
    "# Display descriptive stats for numerical columns\n",
    "tornadoes.describe().round(3)"
   ]
  },
  {
   "cell_type": "markdown",
   "id": "45708f95",
   "metadata": {},
   "source": [
    "### Dataset Size: \n",
    "- Number of rows (tornadoes): 68,693\n",
    "- Number of columns (variables): 21\n",
    "\n",
    "### Data Types:\n",
    "\n",
    "- **Numerical Data (int64 or float64)**: `om`, `yr`, `mo`, `dy`, `stf`, `mag`, `inj`, `fat`, `loss`, `slat`, `slon`, `elat`, `elon`, `len`, `wid`, `ns`, `sn`, `f1`, `f2`, `f3`, `f4`\n",
    "- **Categorical Data (object)**: `date`, `time`, `tz`, `datetime_utc`, `st`\n",
    "- **Boolean Data (bool)**: `fc`\n",
    "\n",
    "### Basic Statistics:\n",
    "For the numerical columns:\n",
    "- `om`: Ranges from 1 to 622,080.\n",
    "- `yr`: Ranges from 1950 to 2022.\n",
    "- `mo`: Ranges from 1 to 12.\n",
    "- `dy`: Ranges from 1 to 31.\n",
    "- `stf`: Ranges from 1 to 78.\n",
    "- `mag`: Ranges from 0 to 5.\n",
    "- `inj`: Ranges from 0 to 1,740.\n",
    "- `fat`: Ranges from 0 to 158.\n",
    "- `loss`: Ranges from $50 to $2,800,100,000.\n",
    "- `slat`: Ranges from 17.7212 to 61.02.\n",
    "- `slon`: No specific range provided.\n",
    "- `elat`: Has a minimum value of 0.\n",
    "- `elon`: No specific range provided.\n",
    "- `len`: Ranges from 0 to 234.7 miles.\n",
    "- `wid`: Ranges from 0 to 4,576 yards.\n",
    "- `ns`: Ranges from 1 to 3.\n",
    "- `sn`: Ranges from 0 to 1.\n",
    "- `f1`: Has a maximum value of 810.\n",
    "- `f2`: Has a maximum value of 820.\n",
    "- `f3`: Has a maximum value of 710.\n",
    "- `f4`: Has a maximum value of 507."
   ]
  },
  {
   "cell_type": "markdown",
   "id": "d797366c",
   "metadata": {},
   "source": [
    "# Data Cleansing: \n",
    "1. identify **missing values** and decide whether to impute, fill, or drop.\n",
    "\n",
    "2. check for and remove **duplicates**.\n",
    "\n",
    "3. ensure that each column is of the correct **data type**, and convert if not.\n",
    "\n",
    "4. look for **outliers** using statistical methods or visualization.  \n",
    "\n",
    "5. **standardization**: if necessary"
   ]
  },
  {
   "cell_type": "code",
   "execution_count": null,
   "id": "03362ecd",
   "metadata": {},
   "outputs": [],
   "source": [
    "# Check for missing values\n",
    "missing_values = tornadoes.isnull().sum()\n",
    "\n",
    "# Calculate missing value counts\n",
    "missing_values = pd.DataFrame(missing_values[missing_values > 0])\n",
    "\n",
    "# Calculate missing percent of values for each column\n",
    "missing_pct = ((missing_values/tornadoes.shape[0]*100).round(3))\n",
    "\n",
    "# Add missing count and percent to table\n",
    "missing_values[\"% Missing\"] = missing_pct\n",
    "missing_values.rename(columns={0: 'Count Missing'}, inplace=True)\n",
    "missing_values"
   ]
  },
  {
   "cell_type": "code",
   "execution_count": null,
   "id": "bb7e8308",
   "metadata": {},
   "outputs": [],
   "source": [
    "# Visualize missing values\n",
    "import missingno as msno\n",
    "msno.matrix(tornadoes)"
   ]
  },
  {
   "cell_type": "markdown",
   "id": "cf6afb1e",
   "metadata": {},
   "source": [
    "columns with missing values:\n",
    "- **mag**: 756 missing values, or 1.101%\n",
    "- **loss**: 27170 missing values, or 38.553%\n",
    "\n",
    "how we will handle these:\n",
    "- **mag**: Drop rows with missing values since it only accounts for about 1% of data.\n",
    "- **loss**: Dropping this variable since it isn't needed."
   ]
  },
  {
   "cell_type": "code",
   "execution_count": null,
   "id": "d844eaa6",
   "metadata": {},
   "outputs": [],
   "source": [
    "# Drop NA values from mag.\n",
    "tornadoes.dropna(subset=['mag'], inplace=True)\n",
    "\n",
    "# Drop loss variable.\n",
    "tornadoes.drop(['loss'], axis=1, inplace=True)"
   ]
  },
  {
   "cell_type": "code",
   "execution_count": null,
   "id": "2a5deb63",
   "metadata": {},
   "outputs": [],
   "source": [
    "tornadoes.info()"
   ]
  },
  {
   "cell_type": "markdown",
   "id": "2318c8f5",
   "metadata": {},
   "source": [
    "now that missing values have been handled, we'll check for duplicates. "
   ]
  },
  {
   "cell_type": "code",
   "execution_count": null,
   "id": "68f32fd9",
   "metadata": {},
   "outputs": [],
   "source": [
    "# Check for duplicate rows\n",
    "duplicate_rows = tornadoes.duplicated().sum()\n",
    "print(\"There are \" + str(duplicate_rows) + \" duplicate row(s).\\n\")\n",
    "\n",
    "# Get a boolean series indicating which rows are duplicates (including the original rows)\n",
    "duplicate_mask_all = tornadoes.duplicated(keep=False)\n",
    "\n",
    "# Use this mask to filter and display both the original and duplicate rows\n",
    "duplicate_rows_all_df = tornadoes[duplicate_mask_all]\n",
    "duplicate_rows_all_df"
   ]
  },
  {
   "cell_type": "code",
   "execution_count": null,
   "id": "95d263a1",
   "metadata": {},
   "outputs": [],
   "source": [
    "# Remove duplicate rows, if any\n",
    "if duplicate_rows > 0: \n",
    "    tornadoes.drop_duplicates(inplace=True)\n",
    "\n",
    "# Verify that the removal worked\n",
    "duplicate_rows = tornadoes.duplicated().sum()\n",
    "print(\"There are \" + str(duplicate_rows) + \" duplicate row(s).\\n\")"
   ]
  },
  {
   "cell_type": "markdown",
   "id": "1a1e9709",
   "metadata": {},
   "source": [
    "now let's determine if any data types need conversion."
   ]
  },
  {
   "cell_type": "code",
   "execution_count": null,
   "id": "db07fd31",
   "metadata": {},
   "outputs": [],
   "source": [
    "# Display data types for each column\n",
    "tornadoes.dtypes"
   ]
  },
  {
   "cell_type": "markdown",
   "id": "7eb29a48",
   "metadata": {},
   "source": [
    "we might consider changing `date` (the date), `time` (the time), and `datetime_utc` (the date and time normalized to UTC) from objects to DateTime. But we can wait to do this until we know we need these columns"
   ]
  },
  {
   "cell_type": "markdown",
   "id": "48f2a3cd",
   "metadata": {},
   "source": [
    "# Exploratory Data Analysis\n",
    "\n",
    "### 1. quick feature creation to aid in analysis\n",
    "**create `region` by mapping states to cultural region**  \n",
    "\n",
    "**create `decade` by organizing years into decades**  \n",
    "\n",
    "**create categories which classify each tornado based on levels of its `wid`, `len`**  \n",
    "*> This is to get a more well-rounded idea of tornado severity rather than relying only on `mag`*  \n",
    "*> current labels are `wid_level` for `wid`, `Track Length` for length. I need to change these names so they are easier to understand*\n",
    "\n",
    "**create `in_alley` column to classify each tornado as either \"inside\" or \"outside\" tornado alley**\n",
    "\n",
    "**create subset dataframes for each decade**  \n",
    "\n",
    "**create other features as needed**\n",
    "\n",
    "\n",
    "### 2. visualization\n",
    "**visualize simple frequency of tornadoes over time.**  \n",
    "*> this will let us see and discuss the overall trend over time.*  \n",
    "*> then we can break this down further into categories of severity, using `mag` and the newly-created categorical variables `wid_level` and `Track Length`*  \n",
    "*> then break the overall frequency down into inside/outside tornado alley using `in_alley` so we can see how the overall frequency is changing in these locations over time.*  \n",
    "\n",
    "**what is the frequency of tornadoes across states and regions? what about for larger (higher mag, larger wid, longer len) tornadoes?**  \n",
    "*> bar charts displaying frequencies in regions and states*  \n",
    "*> like above, can do further break-down into the severity trends*  \n",
    "\n",
    "**of which months in the year are tornadoes most frequent? what about for larger (higher mag, larger wid, longer len) tornadoes?**  \n",
    "*> we could analyze the seasonality of tornadoes over time using `mo`. the hypothesis might be that \"tornado season\" is increasing (there is an increase in months in which tornadoes are common)*   \n",
    "*> if we figure out how to do the above, we could then see how the further break-down looks across different severity levels*  \n",
    "\n",
    "**other indicators**  \n",
    "*> injuries, fatalities as indicators*  \n",
    "\n",
    "**geographical analysis**  \n",
    "*> how does geographical distribution of all tornadoes look like over the decades?*  \n",
    "*> what about across severity levels?*  \n",
    "*> use heatmaps to highlight hotspots*  \n",
    "\n",
    "### 3. statistical analysis\n",
    "**visualize descriptive statistics of numerical columns**\n",
    "\n",
    "### 4. relationships between variables\n",
    "**determine whether correlations exist** \n",
    "\n",
    "**do any variables exhibit linear relationships?**    \n",
    "\n",
    "**do we see an uptick in tornado frequency across decades?**  \n",
    "\n",
    "**do we see an uptick in tornado intensity across decades?**  \n",
    "\n",
    "**do we see an uptick in tornado frequency in certain regions across decades?**  \n",
    "\n",
    "**do we see an uptick in injuries, fatalities, or property loss (factors) across decades (groups)?**  \n",
    "\n",
    "**do we see any change in the mean latitudes and longitudes across decades? (this would indicate a shift in the tornado zone)**  \n",
    "\n",
    "**look for nonlinear relationships**  "
   ]
  },
  {
   "cell_type": "markdown",
   "id": "f9a69e53",
   "metadata": {},
   "source": [
    "### 1. quick feature creation\n",
    "**create `region`:**  \n",
    "below we establish a dictionary for all 50 possible us states. then, iterate thru `st` and classify each state into a region by postal code.  "
   ]
  },
  {
   "cell_type": "code",
   "execution_count": null,
   "id": "661aae03",
   "metadata": {},
   "outputs": [],
   "source": [
    "# Dictionary to map the 50 US states to regions\n",
    "states_and_regions = {\n",
    "    'ME': 'New England', 'NH': 'New England', 'VT': 'New England', 'MA': 'New England', \n",
    "    'RI': 'New England', 'CT': 'New England',\n",
    "    \n",
    "    'NY': 'Mid-Atlantic', 'NJ': 'Mid-Atlantic', 'PA': 'Mid-Atlantic', \n",
    "    'DE': 'Mid-Atlantic', 'MD': 'Mid-Atlantic', 'DC': 'Mid-Atlantic', \n",
    "    \n",
    "    'VA': 'Upper South', 'WV': 'Upper South', 'KY': 'Upper South', 'TN': 'Upper South', \n",
    "    'NC': 'Upper South', 'AR': 'Upper South', 'MO': 'Upper South',\n",
    "    \n",
    "    'OK': 'Deep South', 'SC': 'Deep South', 'GA': 'Deep South', 'AL': 'Deep South', \n",
    "    'MS': 'Deep South', 'LA': 'Deep South', 'FL': 'Deep South',\n",
    "    \n",
    "    'TX': 'Southwest', 'AZ': 'Southwest', 'NM': 'Southwest', \n",
    "    \n",
    "    'CA': 'Pacific', 'NV': 'Pacific', 'OR': 'Pacific', 'WA': 'Pacific', 'HI': 'Pacific', \n",
    "    \n",
    "    'AK': 'Pacific Northwest',\n",
    "    \n",
    "    'OH': 'Midwest', 'MI': 'Midwest', 'IN': 'Midwest', 'IL': 'Midwest', 'WI': 'Midwest',\n",
    "    'MN': 'Midwest', 'IA': 'Midwest', 'NE': 'Midwest', 'SD': 'Midwest', 'ND': 'Midwest', \n",
    "    'KS': 'Midwest',\n",
    "    \n",
    "    'MT': 'Mountain West', 'ID': 'Mountain West', 'WY': 'Mountain West', \n",
    "    'CO': 'Mountain West', 'UT': 'Mountain West'\n",
    "}\n",
    "\n",
    "# Map the states to a region in new column\n",
    "tornadoes['region'] = tornadoes['st'].map(states_and_regions)"
   ]
  },
  {
   "cell_type": "markdown",
   "id": "5ffacfae",
   "metadata": {},
   "source": [
    "**create `decade`:**  \n",
    "this will iterate thru `yr` and attach the categorical decade label in new column called `decade`. in the format e.g. \"1950-1959\""
   ]
  },
  {
   "cell_type": "code",
   "execution_count": null,
   "id": "996e2856",
   "metadata": {},
   "outputs": [],
   "source": [
    "# classifies each row's `yr` into new column of objects, `decade`\n",
    "tornadoes['decade'] = tornadoes['yr'].apply(lambda x: f\"{x//10*10}-{x//10*10+9}\")"
   ]
  },
  {
   "cell_type": "markdown",
   "id": "d57c18f0",
   "metadata": {},
   "source": [
    " **create `wid_level`**  \n",
    " this will iterate through `wid`, a continuous variable, to classify tornado widths based on three classes tornadoes can be organized into.  \n",
    " *get source for class info.*  "
   ]
  },
  {
   "cell_type": "code",
   "execution_count": null,
   "id": "09aa13f1",
   "metadata": {},
   "outputs": [],
   "source": [
    "# Create new column that classifies each tornado by width\n",
    "def wid_categories(wid):\n",
    "    if wid < 50:\n",
    "        return 'Narrow (< 50 Yards)'\n",
    "    elif wid >= 50 and wid < 500:\n",
    "        return 'Medium (50 - 500 Yards)'\n",
    "    elif wid >= 500:\n",
    "        return 'Large (>= 500 Yards)'\n",
    "\n",
    "tornadoes['wid_level'] = tornadoes['wid'].apply(wid_categories)\n",
    "tornadoes['wid_level']"
   ]
  },
  {
   "cell_type": "markdown",
   "id": "fd003b56",
   "metadata": {},
   "source": [
    "**create `wid_category`**  \n",
    "*forgot if still needed this. might delete.*  "
   ]
  },
  {
   "cell_type": "code",
   "execution_count": null,
   "id": "ab1bea09",
   "metadata": {},
   "outputs": [],
   "source": [
    "# Create new column that classifies each tornado by width\n",
    "def wid_categories2(wid):\n",
    "    if wid < 50:\n",
    "        return 'Narrow'\n",
    "    elif wid >= 50 and wid < 500:\n",
    "        return 'Medium'\n",
    "    elif wid >= 500:\n",
    "        return 'Large'\n",
    "\n",
    "tornadoes['wid_category'] = tornadoes['wid'].apply(wid_categories2)\n",
    "tornadoes['wid_category']"
   ]
  },
  {
   "cell_type": "markdown",
   "id": "ff98b9a8",
   "metadata": {},
   "source": [
    "**create `Track Length`** \n",
    "iterate thru `len` and classify into three classes based on tornado track length (the path in which the tornado takes while it is touching the ground).  \n",
    " *get source for class info.*  \n",
    " *also consider changing name to be more like wid_length OR vice versa.*  "
   ]
  },
  {
   "cell_type": "code",
   "execution_count": null,
   "id": "4f10cb0e",
   "metadata": {},
   "outputs": [],
   "source": [
    "# Create new column that classifies each tornado by length\n",
    "def len_categories(len):\n",
    "    if len < 10:\n",
    "        return 'Short_Track (< 10 Miles)'\n",
    "    elif len >= 10 and len < 50:\n",
    "        return 'Medium-Track (10 - 50 Miles)'\n",
    "    elif len >= 50:\n",
    "        return 'Long-Track (>= 50 Miles)'\n",
    "\n",
    "tornadoes['Track Length'] = tornadoes['len'].apply(len_categories)\n",
    "tornadoes['Track Length']"
   ]
  },
  {
   "cell_type": "markdown",
   "id": "6e40b198",
   "metadata": {},
   "source": [
    "**create `in_alley`**  \n",
    "using the inside of longitudes -105 and -95 as a general 'tornado alley', classifies each tornado based on it's `slon` (starting longitude) as either 'inside' or 'outside' tonrado alley  \n",
    "*get source for this info.*  "
   ]
  },
  {
   "cell_type": "code",
   "execution_count": null,
   "id": "2ce5cad8",
   "metadata": {},
   "outputs": [],
   "source": [
    "# Create new column that classifies each tornado by its location (inside tornado alley, outside tornado alley)\n",
    "def inside_outside(slon):\n",
    "    if slon >= -105 and slon <= -95:\n",
    "        return 'Inside Tornado Alley'\n",
    "    else:\n",
    "        return 'Outside Tornado Alley'\n",
    "\n",
    "tornadoes['in_alley'] = tornadoes['slon'].apply(inside_outside)\n",
    "tornadoes['in_alley']"
   ]
  },
  {
   "cell_type": "markdown",
   "id": "97a21b4b",
   "metadata": {},
   "source": [
    "**create subset dfs, `tornadoes_1950s` thru `tornadoes_2010s`**  \n",
    "*might use for examining seasonality and/or geographical representations*  "
   ]
  },
  {
   "cell_type": "code",
   "execution_count": null,
   "id": "8f0233a7",
   "metadata": {},
   "outputs": [],
   "source": [
    "# Create subsets of tornadoes for each decade\n",
    "tornadoes_1950s = tornadoes.query(\"decade == 1950\")\n",
    "tornadoes_1960s = tornadoes.query(\"decade == 1960\")\n",
    "tornadoes_1970s = tornadoes.query(\"decade == 1970\")\n",
    "tornadoes_1980s = tornadoes.query(\"decade == 1980\")\n",
    "tornadoes_1990s = tornadoes.query(\"decade == 1990\")\n",
    "tornadoes_2000s = tornadoes.query(\"decade == 2000\")\n",
    "tornadoes_2010s = tornadoes.query(\"decade == 2010\")"
   ]
  },
  {
   "cell_type": "markdown",
   "id": "2809002a",
   "metadata": {},
   "source": [
    "### 2. Visualization\n",
    "**Tornado frequencies over time**  \n",
    "*Below, we can see that the overall count of all tornadoes is increasing over time.*  \n",
    "\n",
    "*Then, we break this down into those tornadoes inside and outside tornado alley. It appears that tornadoes are increasing in frequency outside tornado alley. this suggests that either the area we consider \"tornado alley\" is either shifting or widening (tornadoes are spilling out).*  \n",
    "\n",
    "*Using different width classifications, we notice that different widths of tornadoes appear to be increasing at different rates. we definitely see an increased frequency of medium and large width tornadoes, with narrow ones remaining the same or decreaing. This might suggest that overall, tornados are getting bigger.*  \n",
    "\n",
    "*We also do this with tornado track lengths. it seems that short-track and medium-track tornadoes are increasing in frequency, but long-track ones don't seem to be changing much.*  \n",
    "\n",
    "**all tornadoes:**"
   ]
  },
  {
   "cell_type": "code",
   "execution_count": null,
   "id": "e6142c01",
   "metadata": {},
   "outputs": [],
   "source": [
    "# Visualize simple frequencies of all tornadoes over time\n",
    "import matplotlib.pyplot as plt\n",
    "import seaborn as sns\n",
    "\n",
    "# Create figure\n",
    "sns.set_style('darkgrid')\n",
    "f, ax = plt.subplots(figsize=(12, 6))\n",
    "sns.despine()\n",
    "sns.histplot(x='yr', data=tornadoes, color='black', ax=ax, bins=12)\n",
    "ax.set_title('Tornado Frequency over time (1950-2022)', weight='bold')"
   ]
  },
  {
   "cell_type": "markdown",
   "id": "92153b9d",
   "metadata": {},
   "source": [
    "**by location (in/out of tornado alley):**"
   ]
  },
  {
   "cell_type": "code",
   "execution_count": null,
   "id": "019a8253",
   "metadata": {},
   "outputs": [],
   "source": [
    "sns.set_style('darkgrid')\n",
    "f, ax = plt.subplots(figsize=(12, 6))\n",
    "sns.despine()\n",
    "sns.histplot(x='yr', data=tornadoes, hue='in_alley', ax=ax, bins=12)\n",
    "ax.set_title('Tornado frequencies (inside, outside tornado alley) over Time (1950-2022)', weight='bold')"
   ]
  },
  {
   "cell_type": "markdown",
   "id": "fc78c988",
   "metadata": {},
   "source": [
    "**by width:**"
   ]
  },
  {
   "cell_type": "code",
   "execution_count": null,
   "id": "0e49ff76",
   "metadata": {},
   "outputs": [],
   "source": [
    "# Histogram of the number of different sized tornadoes over time \n",
    "\n",
    "# Filter tornadoes by width \n",
    "high_wid = tornadoes[tornadoes['wid'] >= 500]\n",
    "med_wid = tornadoes[(tornadoes['wid'] >= 50) & (tornadoes['wid'] < 500)]\n",
    "low_wid = tornadoes[tornadoes['wid'] < 50]\n",
    "\n",
    "sns.set_style('darkgrid')\n",
    "f, ax = plt.subplots(figsize=(12, 6))\n",
    "sns.despine()\n",
    "sns.histplot(x='yr', data=low_wid, color=\"Blue\", ax=ax, bins=12)\n",
    "sns.histplot(x='yr', data=med_wid, color=\"Yellow\", ax=ax, bins=12)\n",
    "sns.histplot(x='yr', data=high_wid, color=\"Green\", ax=ax, bins=12)\n",
    "ax.set_title('Tornado Frequencies over Time (1950-2022) and widths', weight='bold')\n",
    "ax.set_xlabel('Year', weight='bold')\n",
    "ax.set_ylabel('Number of tornadoes', weight='bold')\n",
    "\n",
    "legend_labels=['Narrow (< 50 Yards)', 'Medium (50 - 500 Yards)', 'Large (>= 500 Yards)']\n",
    "legend_colors=['Blue', 'Yellow', 'Green']\n",
    "legend_handles = [plt.Line2D([0], [0], marker='s', color='White', label=label, \n",
    "                             markersize=11, markerfacecolor=color, linestyle='None') \n",
    "                  for label, color in zip(legend_labels, legend_colors)]\n",
    "ax.legend(handles=legend_handles, title='Tornado Width')"
   ]
  },
  {
   "cell_type": "markdown",
   "id": "410c83b9",
   "metadata": {},
   "source": [
    "**by track length:**  \n",
    "*two representations because i was still figuring out how to do it.*  "
   ]
  },
  {
   "cell_type": "code",
   "execution_count": null,
   "id": "fbbed8f7",
   "metadata": {},
   "outputs": [],
   "source": [
    "# Filter by tornadoes with width over 500 yds\n",
    "high_len = tornadoes[tornadoes['len'] >= 50]\n",
    "med_len = tornadoes[(tornadoes['len'] >= 10) & (tornadoes['len'] < 50)]\n",
    "low_len = tornadoes[tornadoes['len'] < 10]\n",
    "\n",
    "sns.set_style('darkgrid')\n",
    "f, ax = plt.subplots(figsize=(12, 6))\n",
    "sns.despine()\n",
    "sns.histplot(x='yr', data=low_len, color=\"Blue\", ax=ax, bins=12)\n",
    "sns.histplot(x='yr', data=med_len, color=\"Brown\", ax=ax, bins=12)\n",
    "sns.histplot(x='yr', data=high_len, color=\"Green\", ax=ax, bins=12)\n",
    "ax.set_title('Tornado frequencies over time (1950-2022) and track length', weight='bold')\n",
    "ax.set_xlabel('Year', weight='bold')\n",
    "ax.set_ylabel('Number of tornadoes', weight='bold')"
   ]
  },
  {
   "cell_type": "code",
   "execution_count": null,
   "id": "327e3fd4",
   "metadata": {},
   "outputs": [],
   "source": [
    "# just another way to visuzlize track length\n",
    "\n",
    "sns.set_style('darkgrid')\n",
    "f, ax = plt.subplots(figsize=(12, 6))\n",
    "sns.despine()\n",
    "sns.histplot(x='yr', hue='Track Length', data=tornadoes, palette='deep', bins=12)\n",
    "ax.set_title('Tornado frequencies over time (1950-2022) and track length', weight='bold')\n",
    "ax.set_xlabel('Year', weight='bold')\n",
    "ax.set_ylabel('Number of tornadoes', weight='bold')\n",
    "plt.show()"
   ]
  },
  {
   "cell_type": "markdown",
   "id": "41fb3e3a",
   "metadata": {},
   "source": [
    "**by magnitude:**  \n",
    "*several representations because i was still figuring out how to do it.*  "
   ]
  },
  {
   "cell_type": "code",
   "execution_count": null,
   "id": "f510b38c",
   "metadata": {},
   "outputs": [],
   "source": [
    "# Frequency of tornadoes and their magnitudes across states\n",
    "\n",
    "sns.set_style('darkgrid')\n",
    "f, ax = plt.subplots(figsize=(12, 6))\n",
    "sns.despine()\n",
    "sns.histplot(x='yr', hue='mag', data=tornadoes, palette='deep', bins=12, alpha=0.7)\n",
    "ax.set_title('Tornado frequencies over time (1950-2022) and magnitude', weight='bold')\n",
    "ax.set_xlabel('Year', weight='bold')\n",
    "ax.set_ylabel('Number of tornadoes', weight='bold')\n",
    "plt.show()"
   ]
  },
  {
   "cell_type": "code",
   "execution_count": null,
   "id": "d57ab22e",
   "metadata": {},
   "outputs": [],
   "source": [
    "# Magnitudes over time again\n",
    "sns.set_style('darkgrid')\n",
    "f, ax = plt.subplots(figsize=(12, 6))\n",
    "sns.despine()\n",
    "sns.histplot(x='yr', hue='mag', multiple='layer', data=tornadoes, palette=\"deep\")\n",
    "ax.set_title('Frequency of all tornadoes over time (1950-2022) by magnitude', weight='bold')\n",
    "ax.set_xlabel('Year', weight='bold')\n",
    "ax.set_ylabel('Number of tornadoes', weight='bold')"
   ]
  },
  {
   "cell_type": "code",
   "execution_count": null,
   "id": "86aad1e5",
   "metadata": {},
   "outputs": [],
   "source": [
    "# Magnitudes over time (another)\n",
    "sns.set_style('darkgrid')\n",
    "f, ax = plt.subplots(figsize=(12, 6))\n",
    "sns.despine()\n",
    "sns.histplot(x='yr', hue='mag', multiple='stack', data=tornadoes, palette=\"Pastel2\")\n",
    "ax.set_title('Frequency of tornadoes across decades (1950-2022) by magnitude', weight='bold')\n",
    "ax.set_xlabel('Decade', weight='bold')\n",
    "ax.set_ylabel('Number of tornadoes', weight='bold')"
   ]
  },
  {
   "cell_type": "markdown",
   "id": "11455f82",
   "metadata": {},
   "source": [
    "### 3. statistical analysis\n",
    "**starting to visualize descriptive statistics of numerical columns**  \n",
    "*probably could use some more basic univariate visualizations and discussion*  \n",
    "\n",
    "**various bivariate/multivariate exploratory plots are below**  \n",
    "*needs some cleanup and discussion*  "
   ]
  },
  {
   "cell_type": "code",
   "execution_count": null,
   "id": "89173d9c",
   "metadata": {},
   "outputs": [],
   "source": [
    "f, ax = plt.subplots(figsize=(12, 6))\n",
    "sns.despine()\n",
    "sns.boxplot(x='decade', y='wid', data=high_wid, palette='Pastel2')\n",
    "ax.set_title('Large-Width (>= 500 Yard) Tornadoes by Decade (1950-2022)', weight='bold')\n",
    "ax.set_xlabel('Decade', weight='bold')\n",
    "ax.set_ylabel('Width (Yards)', weight='bold')"
   ]
  },
  {
   "cell_type": "code",
   "execution_count": null,
   "id": "16daddc5",
   "metadata": {},
   "outputs": [],
   "source": [
    "f, ax = plt.subplots(figsize=(12, 6))\n",
    "sns.despine()\n",
    "sns.boxplot(x='decade', y='wid', data=med_wid, palette='Pastel2')\n",
    "ax.set_title('Medium-Width (50 - 500 Yard) Tornadoes by Decade (1950-2022)', weight='bold')\n",
    "ax.set_xlabel('Decade', weight='bold')\n",
    "ax.set_ylabel('Width (Yards)', weight='bold')"
   ]
  },
  {
   "cell_type": "code",
   "execution_count": null,
   "id": "198a5e01",
   "metadata": {},
   "outputs": [],
   "source": [
    "f, ax = plt.subplots(figsize=(12, 6))\n",
    "sns.despine()\n",
    "sns.boxplot(x='decade', y='wid', hue='in_alley', data=high_wid, palette='Pastel2')\n",
    "ax.set_title('High-Width (500+ Yard) Tornadoes by Decade (1950-2022)', weight='bold')\n",
    "ax.set_xlabel('Decade', weight='bold')\n",
    "ax.set_ylabel('Width (Yards)', weight='bold')"
   ]
  },
  {
   "cell_type": "code",
   "execution_count": null,
   "id": "e91263e9",
   "metadata": {},
   "outputs": [],
   "source": [
    "f, ax = plt.subplots(figsize=(12, 6))\n",
    "sns.despine()\n",
    "sns.boxplot(x='decade', y='wid', hue='in_alley', data=high_len, palette='Pastel2')\n",
    "ax.set_title('Widths of Long-Track (50+ Mile) Tornadoes by Decade (1950-2022)', weight='bold')\n",
    "ax.set_xlabel('Decade', weight='bold')\n",
    "ax.set_ylabel('Width (Yards)', weight='bold')"
   ]
  },
  {
   "cell_type": "code",
   "execution_count": null,
   "id": "edc4b0ae",
   "metadata": {},
   "outputs": [],
   "source": [
    "f, ax = plt.subplots(3, 1, figsize=(12, 10))\n",
    "plt.subplots_adjust(hspace=0.5, wspace=0.5)\n",
    "sns.despine()\n",
    "\n",
    "# Plot for short-track only\n",
    "sns.boxplot(x='decade', y='wid', hue='in_alley', data=low_len, palette='Pastel2', ax=ax[0])\n",
    "ax[0].set_title('Widths of Short-Track (>10 Mile) Tornadoes by Decade (1950-2022)', weight='bold')\n",
    "ax[0].set_xlabel('Decade', weight='bold')\n",
    "ax[0].set_ylabel('Width (Yards)', weight='bold')\n",
    "\n",
    "# Plot for med-track only\n",
    "sns.boxplot(x='decade', y='wid', hue='in_alley', data=med_len, palette='Pastel2', ax=ax[1])\n",
    "ax[1].set_title('Widths of Medium-Track (10-50 Mile) Tornadoes by Decade (1950-2022)', weight='bold')\n",
    "ax[1].set_xlabel('Decade', weight='bold')\n",
    "ax[1].set_ylabel('Width (Yards)', weight='bold')\n",
    "\n",
    "# Plot for long-track only\n",
    "sns.boxplot(x='decade', y='wid', hue='in_alley', data=high_len, palette='Pastel2', ax=ax[2])\n",
    "ax[2].set_title('Widths of Long-Track (50+ Mile) Tornadoes by Decade (1950-2022)', weight='bold')\n",
    "ax[2].set_xlabel('Decade', weight='bold')\n",
    "ax[2].set_ylabel('Width (Yards)', weight='bold')"
   ]
  },
  {
   "cell_type": "markdown",
   "id": "2cd8f05e",
   "metadata": {},
   "source": [
    "**what is the frequency of tornadoes across states and regions? what about for larger (higher mag, larger wid, longer len) tornadoes?**\n",
    "- The top 10 states of all time as well as the regions are shown below.   \n",
    "*As expected, southern and midwestern regions ad their states are the most common*  \n",
    "*Visualize this over time*  \n",
    "*Put total frequency and in/out tornado alley stuff here*"
   ]
  },
  {
   "cell_type": "code",
   "execution_count": null,
   "id": "c50577fa",
   "metadata": {},
   "outputs": [],
   "source": [
    "# Other indicators across space and time\n",
    "f, ax = plt.subplots(2, 1, figsize=(12, 12))\n",
    "plt.subplots_adjust(hspace=0.5, wspace=0.5)\n",
    "sns.despine()\n",
    "\n",
    "# Plot for injuries\n",
    "sns.boxplot(x='decade', y='inj', hue='in_alley', data=tornadoes, palette='Pastel2', ax=ax[0])\n",
    "ax[0].set_title('Injuries due to Short-Track (>10 Mile) Tornadoes by Decade (1950-2022)', weight='bold')\n",
    "ax[0].set_xlabel('Decade', weight='bold')\n",
    "ax[0].set_ylabel('Inj', weight='bold')\n",
    "ax[0].set_ylim(0,5)\n",
    "\n",
    "# Plot for fatalities\n",
    "sns.boxplot(x='decade', y='fat', hue='in_alley', data=tornadoes, palette='Pastel2', ax=ax[1])\n",
    "ax[1].set_title('Fatalities due to Medium-Track (10-50 Mile) Tornadoes by Decade (1950-2022)', weight='bold')\n",
    "ax[1].set_xlabel('Decade', weight='bold')\n",
    "ax[1].set_ylabel('fatalities', weight='bold')\n",
    "ax[1].set_ylim(0,20)"
   ]
  },
  {
   "cell_type": "code",
   "execution_count": null,
   "id": "fc76fcdf",
   "metadata": {},
   "outputs": [],
   "source": [
    "# Injuries by track length\n",
    "f, ax = plt.subplots(3, 1, figsize=(12, 10))\n",
    "plt.subplots_adjust(hspace=0.5, wspace=0.5)\n",
    "sns.despine()\n",
    "\n",
    "# Plot for short track only\n",
    "sns.boxplot(x='decade', y='inj', hue='in_alley', data=low_len, palette='Pastel2', ax=ax[0])\n",
    "ax[0].set_title('Injuries due to Short-Track (>10 Mile) Tornadoes by Decade (1950-2022)', weight='bold')\n",
    "ax[0].set_xlabel('Decade', weight='bold')\n",
    "ax[0].set_ylabel('Width (Yards)', weight='bold')\n",
    "\n",
    "# Plot for med track only\n",
    "sns.boxplot(x='decade', y='inj', hue='in_alley', data=med_len, palette='Pastel2', ax=ax[1])\n",
    "ax[1].set_title('Injuries due to Medium-Track (10-50 Mile) Tornadoes by Decade (1950-2022)', weight='bold')\n",
    "ax[1].set_xlabel('Decade', weight='bold')\n",
    "ax[1].set_ylabel('Width (Yards)', weight='bold')\n",
    "\n",
    "# Plot for long track only\n",
    "sns.boxplot(x='decade', y='inj', hue='in_alley', data=high_len, palette='Pastel2', ax=ax[2])\n",
    "ax[2].set_title('Injuries due to Long-Track (50+ Mile) Tornadoes by Decade (1950-2022)', weight='bold')\n",
    "ax[2].set_xlabel('Decade', weight='bold')\n",
    "ax[2].set_ylabel('Width (Yards)', weight='bold')"
   ]
  },
  {
   "cell_type": "code",
   "execution_count": null,
   "id": "aee4357d",
   "metadata": {},
   "outputs": [],
   "source": [
    "# Fatalities by track length\n",
    "f, ax = plt.subplots(3, 1, figsize=(12, 10))\n",
    "plt.subplots_adjust(hspace=0.5, wspace=0.5)\n",
    "sns.despine()\n",
    "sns.boxplot(x='decade', y='fat', hue='in_alley', data=low_len, palette='Pastel2', ax=ax[0])\n",
    "ax[0].set_title('Fatalities due to Short-Track (>10 Mile) Tornadoes by Decade (1950-2022)', weight='bold')\n",
    "ax[0].set_xlabel('Decade', weight='bold')\n",
    "ax[0].set_ylabel('Width (Yards)', weight='bold')\n",
    "\n",
    "sns.boxplot(x='decade', y='fat', hue='in_alley', data=med_len, palette='Pastel2', ax=ax[1])\n",
    "ax[1].set_title('Fatalities due to Medium-Track (10-50 Mile) Tornadoes by Decade (1950-2022)', weight='bold')\n",
    "ax[1].set_xlabel('Decade', weight='bold')\n",
    "ax[1].set_ylabel('Width (Yards)', weight='bold')\n",
    "\n",
    "sns.boxplot(x='decade', y='fat', hue='in_alley', data=high_len, palette='Pastel2', ax=ax[2])\n",
    "ax[2].set_title('Fatalities due to Long-Track (50+ Mile) Tornadoes by Decade (1950-2022)', weight='bold')\n",
    "ax[2].set_xlabel('Decade', weight='bold')\n",
    "ax[2].set_ylabel('Width (Yards)', weight='bold')\n",
    "ax[2].set_ylim(0,400000000)"
   ]
  },
  {
   "cell_type": "code",
   "execution_count": null,
   "id": "61a52be5",
   "metadata": {},
   "outputs": [],
   "source": [
    "# lengths by width\n",
    "f, ax = plt.subplots(3, 1, figsize=(12, 8))\n",
    "plt.subplots_adjust(hspace=0.5, wspace=0.5)\n",
    "sns.despine()\n",
    "sns.boxplot(x='decade', y='wid', hue='in_alley', data=low_len, palette='deep', ax=ax[0])\n",
    "ax[0].set_title('Medium-Width (50 - 500 Yard) Tornadoes by Decade (1950-2022)', weight='bold')\n",
    "ax[0].set_xlabel('Decade', weight='bold')\n",
    "ax[0].set_ylabel('Width (Yards)', weight='bold')\n",
    "\n",
    "sns.boxplot(x='decade', y='wid', hue='in_alley', data=med_len, palette='deep', ax=ax[1])\n",
    "ax[1].set_title('Medium-Width (50 - 500 Yard) Tornadoes by Decade (1950-2022)', weight='bold')\n",
    "ax[1].set_xlabel('Decade', weight='bold')\n",
    "ax[1].set_ylabel('Width (Yards)', weight='bold')\n",
    "\n",
    "sns.boxplot(x='decade', y='wid', hue='in_alley', data=high_len, palette='deep', ax=ax[2])\n",
    "ax[2].set_title('Medium-Width (50 - 500 Yard) Tornadoes by Decade (1950-2022)', weight='bold')\n",
    "ax[2].set_xlabel('Decade', weight='bold')\n",
    "ax[2].set_ylabel('Width (Yards)', weight='bold')"
   ]
  },
  {
   "cell_type": "code",
   "execution_count": null,
   "id": "c469a30e",
   "metadata": {},
   "outputs": [],
   "source": [
    "# widths by width\n",
    "f, ax = plt.subplots(3, 1, figsize=(12, 8))\n",
    "plt.subplots_adjust(hspace=0.5, wspace=0.5)\n",
    "sns.despine()\n",
    "sns.boxplot(x='decade', y='wid', hue='in_alley', data=low_wid, palette='deep', ax=ax[0])\n",
    "ax[0].set_title('Low-Width (>50 Yard) Tornadoes by Decade (1950-2022)', weight='bold')\n",
    "ax[0].set_xlabel('Decade', weight='bold')\n",
    "ax[0].set_ylabel('Width (Yards)', weight='bold')\n",
    "\n",
    "sns.boxplot(x='decade', y='wid', hue='in_alley', data=med_wid, palette='deep', ax=ax[1])\n",
    "ax[1].set_title('Medium-Width (50 - 500 Yard) Tornadoes by Decade (1950-2022)', weight='bold')\n",
    "ax[1].set_xlabel('Decade', weight='bold')\n",
    "ax[1].set_ylabel('Width (Yards)', weight='bold')\n",
    "\n",
    "sns.boxplot(x='decade', y='wid', hue='in_alley', data=high_wid, palette='deep', ax=ax[2])\n",
    "ax[2].set_title('High-Width (500+ Yard) Tornadoes by Decade (1950-2022)', weight='bold')\n",
    "ax[2].set_xlabel('Decade', weight='bold')\n",
    "ax[2].set_ylabel('Width (Yards)', weight='bold')"
   ]
  },
  {
   "cell_type": "code",
   "execution_count": null,
   "id": "a8f4446b",
   "metadata": {},
   "outputs": [],
   "source": [
    "# lengths by widths line charts\n",
    "f, ax = plt.subplots(3, 1, figsize=(12, 8))\n",
    "plt.subplots_adjust(hspace=0.5, wspace=0.5)\n",
    "sns.despine()\n",
    "sns.lineplot(x='yr', y='wid', hue='in_alley', data=low_len, palette='muted', ax=ax[0])\n",
    "ax[0].set_title('Short-Track Tornadoes by Decade (1950-2022)', weight='bold')\n",
    "ax[0].set_xlabel('Decade', weight='bold')\n",
    "ax[0].set_ylabel('Width (Yards)', weight='bold')\n",
    "\n",
    "sns.lineplot(x='yr', y='wid', hue='in_alley', data=med_len, palette='muted', ax=ax[1])\n",
    "ax[1].set_title('Medium-Track Tornadoes by Decade (1950-2022)', weight='bold')\n",
    "ax[1].set_xlabel('Decade', weight='bold')\n",
    "ax[1].set_ylabel('Width (Yards)', weight='bold')\n",
    "\n",
    "sns.lineplot(x='yr', y='wid', hue='in_alley', data=high_len, palette='muted', ax=ax[2])\n",
    "ax[2].set_title('Long Track Tornadoes by Decade (1950-2022)', weight='bold')\n",
    "ax[2].set_xlabel('Decade', weight='bold')\n",
    "ax[2].set_ylabel('Width (Yards)', weight='bold')"
   ]
  },
  {
   "cell_type": "code",
   "execution_count": null,
   "id": "35bccbc6",
   "metadata": {},
   "outputs": [],
   "source": [
    "# width by year and location\n",
    "f, ax = plt.subplots(figsize=(12, 6))\n",
    "sns.lineplot(x='yr', y='wid', data=tornadoes, hue='in_alley')"
   ]
  },
  {
   "cell_type": "code",
   "execution_count": null,
   "id": "8270d11b",
   "metadata": {},
   "outputs": [],
   "source": [
    "# scatter of long track by decade\n",
    "f, ax = plt.subplots(figsize=(12, 6))\n",
    "sns.despine()\n",
    "sns.scatterplot(x='yr', y='wid', hue='in_alley', data=high_len, palette='deep')\n",
    "ax.set_title('Long track Tornadoes by Decade (1950-2022)', weight='bold')\n",
    "ax.set_xlabel('Decade', weight='bold')\n",
    "ax.set_ylabel('Width (Yards)', weight='bold')"
   ]
  },
  {
   "cell_type": "code",
   "execution_count": null,
   "id": "417adc68",
   "metadata": {},
   "outputs": [],
   "source": [
    "# track length by wid\n",
    "f, ax = plt.subplots(3, 1, figsize=(12, 8))\n",
    "plt.subplots_adjust(hspace=0.5, wspace=0.5)\n",
    "sns.despine()\n",
    "sns.scatterplot(x='yr', y='wid', hue='in_alley', data=low_len, palette='deep', ax=ax[0])\n",
    "ax[0].set_title('short track Tornadoes by Decade (1950-2022)', weight='bold')\n",
    "ax[0].set_xlabel('Decade', weight='bold')\n",
    "ax[0].set_ylabel('Width (Yards)', weight='bold')\n",
    "\n",
    "sns.scatterplot(x='yr', y='wid', hue='in_alley', data=med_len, palette='deep', ax=ax[1])\n",
    "ax[1].set_title('med track Tornadoes by Decade (1950-2022)', weight='bold')\n",
    "ax[1].set_xlabel('Decade', weight='bold')\n",
    "ax[1].set_ylabel('Width (Yards)', weight='bold')\n",
    "\n",
    "sns.scatterplot(x='yr', y='wid', hue='in_alley', data=high_len, palette='deep', ax=ax[2])\n",
    "ax[2].set_title('Long track Tornadoes by Decade (1950-2022)', weight='bold')\n",
    "ax[2].set_xlabel('Decade', weight='bold')\n",
    "ax[2].set_ylabel('Width (Yards)', weight='bold')"
   ]
  },
  {
   "cell_type": "code",
   "execution_count": null,
   "id": "94b79ec1",
   "metadata": {},
   "outputs": [],
   "source": [
    "f, ax = plt.subplots(3, 1, figsize=(12, 8))\n",
    "plt.subplots_adjust(hspace=0.5, wspace=0.5)\n",
    "sns.despine()\n",
    "sns.scatterplot(x='yr', y='len', data=low_wid, color='Green', ax=ax[0])\n",
    "ax[0].set_title('narrow Tornadoes by Decade (1950-2022)', weight='bold')\n",
    "ax[0].set_xlabel('Decade', weight='bold')\n",
    "ax[0].set_ylabel('Track Length (Miles)', weight='bold')\n",
    "\n",
    "sns.scatterplot(x='yr', y='len', data=med_wid, color='Orange', ax=ax[1])\n",
    "ax[1].set_title('medium wid Tornadoes by Decade (1950-2022)', weight='bold')\n",
    "ax[1].set_xlabel('Decade', weight='bold')\n",
    "ax[1].set_ylabel('Track Length (Miles)', weight='bold')\n",
    "\n",
    "sns.scatterplot(x='yr', y='len', data=high_wid, color='Red', ax=ax[2])\n",
    "ax[2].set_title('wide Tornadoes by Decade (1950-2022)', weight='bold')\n",
    "ax[2].set_xlabel('Decade', weight='bold')\n",
    "ax[2].set_ylabel('Track Length (Miles)', weight='bold')"
   ]
  },
  {
   "cell_type": "code",
   "execution_count": null,
   "id": "53c96c39",
   "metadata": {},
   "outputs": [],
   "source": [
    "f, ax = plt.subplots(3, 1, figsize=(12, 8))\n",
    "plt.subplots_adjust(hspace=0.5, wspace=0.5)\n",
    "sns.despine()\n",
    "sns.scatterplot(x='yr', y='wid', data=low_len, color='green', ax=ax[0])\n",
    "ax[0].set_title('Low-Width (>50 Yard) Tornadoes by Decade (1950-2022)', weight='bold')\n",
    "ax[0].set_xlabel('Decade', weight='bold')\n",
    "ax[0].set_ylabel('Width (Yards)', weight='bold')\n",
    "\n",
    "sns.scatterplot(x='yr', y='wid', data=med_len, color='orange', ax=ax[1])\n",
    "ax[1].set_title('Medium-Width (50 - 500 Yard) Tornadoes by Decade (1950-2022)', weight='bold')\n",
    "ax[1].set_xlabel('Decade', weight='bold')\n",
    "ax[1].set_ylabel('Width (Yards)', weight='bold')\n",
    "\n",
    "sns.scatterplot(x='yr', y='wid', data=high_len, color='red', ax=ax[2])\n",
    "ax[2].set_title('Widths of Long-Track (50+ Mile) Tornadoes by Decade (1950-2022)', weight='bold')\n",
    "ax[2].set_xlabel('Decade', weight='bold')\n",
    "ax[2].set_ylabel('Width (Yards)', weight='bold')"
   ]
  },
  {
   "cell_type": "code",
   "execution_count": null,
   "id": "c81e5b0f",
   "metadata": {},
   "outputs": [],
   "source": [
    "f, ax = plt.subplots(figsize=(12, 8))\n",
    "sns.set_style('ticks')\n",
    "sns.despine()\n",
    "# Set background color\n",
    "ax.set_facecolor('black')  # e.g., a light gray color\n",
    "sns.scatterplot(x='yr', y='wid', data=med_len, color='blue', alpha=0.4)\n",
    "sns.scatterplot(x='yr', y='wid', data=high_len, color='red', marker='D', s=70)\n",
    "ax.set_title('Low-Width (>50 Yard) Tornadoes by Decade (1950-2022)', weight='bold')\n",
    "ax.set_xlabel('Decade', weight='bold')\n",
    "ax.set_ylabel('Width (Yards)', weight='bold')"
   ]
  },
  {
   "cell_type": "code",
   "execution_count": null,
   "id": "69844260",
   "metadata": {},
   "outputs": [],
   "source": [
    "f, ax = plt.subplots(3, 1, figsize=(12, 8))\n",
    "plt.subplots_adjust(hspace=0.5, wspace=0.5)\n",
    "sns.despine()\n",
    "sns.scatterplot(x='yr', y='wid', hue='in_alley', data=low_len, palette='deep', ax=ax[0])\n",
    "ax[0].set_title('Low-Width (>50 Yard) Tornadoes by Decade (1950-2022)', weight='bold')\n",
    "ax[0].set_xlabel('Decade', weight='bold')\n",
    "ax[0].set_ylabel('Width (Yards)', weight='bold')\n",
    "\n",
    "sns.scatterplot(x='yr', y='wid', hue='in_alley', data=med_len, palette='deep', ax=ax[1])\n",
    "ax[1].set_title('Medium-Width (50 - 500 Yard) Tornadoes by Decade (1950-2022)', weight='bold')\n",
    "ax[1].set_xlabel('Decade', weight='bold')\n",
    "ax[1].set_ylabel('Width (Yards)', weight='bold')\n",
    "\n",
    "sns.scatterplot(x='yr', y='wid', hue='in_alley', data=high_len, palette='deep', ax=ax[2])\n",
    "ax[2].set_title('Widths of Long-Track (50+ Mile) Tornadoes by Decade (1950-2022)', weight='bold')\n",
    "ax[2].set_xlabel('Decade', weight='bold')\n",
    "ax[2].set_ylabel('Width (Yards)', weight='bold')"
   ]
  },
  {
   "cell_type": "code",
   "execution_count": null,
   "id": "d56dee33",
   "metadata": {},
   "outputs": [],
   "source": [
    "f, ax = plt.subplots(2, 1, figsize=(10, 15))\n",
    "# Plot boxplot for len\n",
    "sns.boxplot(x=tornadoes['mag'], y=tornadoes['wid'], ax=ax[0])\n",
    "ax[0].set_title('Tornado Widths by Magnitudes')\n",
    "ax[0].set_ylabel('Width (yards)')\n",
    "\n",
    "sns.boxplot(x=tornadoes['mag'], y=tornadoes['len'], ax=ax[1])\n",
    "ax[1].set_title('Tornado Track Length by Magnitudes')\n",
    "ax[1].set_ylabel('Path (miles)')"
   ]
  },
  {
   "cell_type": "code",
   "execution_count": null,
   "id": "9bd7fdc9",
   "metadata": {},
   "outputs": [],
   "source": [
    "f, ax = plt.subplots(2, 1, figsize=(10, 20))\n",
    "# Plot boxplot for len\n",
    "sns.boxplot(x=tornadoes['decade'], y=tornadoes['inj'], ax=ax[0])\n",
    "ax[0].set_title('Injuries by decade')\n",
    "ax[0].set_ylabel('Injuries')\n",
    "\n",
    "sns.boxplot(x=tornadoes['decade'], y=tornadoes['fat'], ax=ax[1])\n",
    "ax[1].set_title('Fatalities by decade')\n",
    "ax[1].set_ylabel('Fatalities')"
   ]
  },
  {
   "cell_type": "code",
   "execution_count": null,
   "id": "bd11e1fb",
   "metadata": {},
   "outputs": [],
   "source": [
    "# Group by year and get the count of each wid category tornadoes for each year\n",
    "low_wid_counts = low_wid.groupby('yr').size().reset_index(name='count')\n",
    "med_wid_counts = med_wid.groupby('yr').size().reset_index(name='count')\n",
    "high_wid_counts = high_wid.groupby('yr').size().reset_index(name='count')"
   ]
  },
  {
   "cell_type": "code",
   "execution_count": null,
   "id": "2a274df8",
   "metadata": {},
   "outputs": [],
   "source": [
    "# Group by year and get the count of each wid category tornadoes for each year\n",
    "low_wid_counts2 = low_wid.groupby(['yr', 'in_alley']).size().reset_index(name='count')\n",
    "med_wid_counts2 = med_wid.groupby(['yr', 'in_alley']).size().reset_index(name='count')\n",
    "high_wid_counts2 = high_wid.groupby(['yr', 'in_alley']).size().reset_index(name='count')\n",
    "\n",
    "low_wid_counts2 = low_wid_counts2.pivot(index='yr', columns='in_alley', values='count').reset_index()\n",
    "med_wid_counts2 = med_wid_counts2.pivot(index='yr', columns='in_alley', values='count').reset_index()\n",
    "high_wid_counts2 = high_wid_counts2.pivot(index='yr', columns='in_alley', values='count').reset_index()\n",
    "\n",
    "low_wid_counts2.columns.name = None \n",
    "med_wid_counts2.columns.name = None \n",
    "high_wid_counts2.columns.name = None "
   ]
  },
  {
   "cell_type": "code",
   "execution_count": null,
   "id": "b3f2e4f6",
   "metadata": {},
   "outputs": [],
   "source": [
    "# Group by year and get the count of each wid category tornadoes for each year\n",
    "low_len_counts = low_len.groupby('yr').size().reset_index(name='count')\n",
    "med_len_counts = med_len.groupby('yr').size().reset_index(name='count')\n",
    "high_len_counts = high_len.groupby('yr').size().reset_index(name='count')\n",
    "high_len_counts"
   ]
  },
  {
   "cell_type": "code",
   "execution_count": null,
   "id": "a4c76d11",
   "metadata": {},
   "outputs": [],
   "source": [
    "# Group by year and get the count of each wid category tornadoes for each year\n",
    "low_len_counts2 = low_len.groupby(['yr', 'in_alley']).size().reset_index(name='count')\n",
    "med_len_counts2 = med_len.groupby(['yr', 'in_alley']).size().reset_index(name='count')\n",
    "high_len_counts2 = high_len.groupby(['yr', 'in_alley']).size().reset_index(name='count')\n",
    "\n",
    "low_len_counts2 = low_len_counts2.pivot(index='yr', columns='in_alley', values='count').reset_index()\n",
    "med_len_counts2 = med_len_counts2.pivot(index='yr', columns='in_alley', values='count').reset_index()\n",
    "high_len_counts2 = high_len_counts2.pivot(index='yr', columns='in_alley', values='count').reset_index()\n",
    "\n",
    "low_len_counts2.columns.name = None \n",
    "med_len_counts2.columns.name = None \n",
    "high_len_counts2.columns.name = None \n",
    "low_len_counts2"
   ]
  },
  {
   "cell_type": "code",
   "execution_count": null,
   "id": "18b44281",
   "metadata": {},
   "outputs": [],
   "source": [
    "# Plotting\n",
    "f, ax = plt.subplots(3, 1, figsize=(15, 10))\n",
    "plt.subplots_adjust(hspace=0.5, wspace=0.5)\n",
    "sns.despine(f)\n",
    "sns.lineplot(x='yr', y='Inside Tornado Alley', data=low_wid_counts2, ax=ax[0], color='green')\n",
    "sns.lineplot(x='yr', y='Outside Tornado Alley', data=low_wid_counts2, ax=ax[0], color='purple')\n",
    "ax[0].set_title('Number of Narrow Tornadoes Over Time')\n",
    "ax[0].set_ylabel('Frequency')\n",
    "ax[0].legend()\n",
    "\n",
    "sns.lineplot(x='yr', y='Inside Tornado Alley', data=med_wid_counts2, ax=ax[1], color='green')\n",
    "sns.lineplot(x='yr', y='Outside Tornado Alley', data=med_wid_counts2, ax=ax[1], color='purple')\n",
    "ax[1].set_title('Number of Medium-Width Tornadoes Over Time')\n",
    "ax[1].set_ylabel('Frequency')\n",
    "\n",
    "sns.lineplot(x='yr', y='Inside Tornado Alley', data=high_wid_counts2, ax=ax[2], color='green')\n",
    "sns.lineplot(x='yr', y='Outside Tornado Alley', data=high_wid_counts2, ax=ax[2], color='purple')\n",
    "ax[2].set_title('Number of Wide Tornadoes Over Time')\n",
    "ax[2].set_ylabel('Frequency')"
   ]
  },
  {
   "cell_type": "code",
   "execution_count": null,
   "id": "6144411b",
   "metadata": {},
   "outputs": [],
   "source": [
    "# Plotting\n",
    "f, ax = plt.subplots(3, 1, figsize=(15, 10))\n",
    "plt.subplots_adjust(hspace=0.5, wspace=0.5)\n",
    "sns.despine(f)\n",
    "sns.lineplot(x='yr', y='Inside Tornado Alley', data=low_len_counts2, ax=ax[0], color='green')\n",
    "sns.lineplot(x='yr', y='Outside Tornado Alley', data=low_len_counts2, ax=ax[0], color='purple')\n",
    "ax[0].set_title('Number of Short-Track Tornadoes Over Time')\n",
    "ax[0].set_ylabel('Frequency')\n",
    "\n",
    "sns.lineplot(x='yr', y='Inside Tornado Alley', data=med_len_counts2, ax=ax[1], color='green')\n",
    "sns.lineplot(x='yr', y='Outside Tornado Alley', data=med_len_counts2, ax=ax[1], color='purple')\n",
    "ax[1].set_title('Number of Medium-Track Tornadoes Over Time')\n",
    "ax[1].set_ylabel('Frequency')\n",
    "\n",
    "sns.lineplot(x='yr', y='Inside Tornado Alley', data=high_len_counts2, ax=ax[2], color='green')\n",
    "sns.lineplot(x='yr', y='Outside Tornado Alley', data=high_len_counts2, ax=ax[2], color='purple')\n",
    "ax[2].set_title('Number of Long-Track Tornadoes Over Time')\n",
    "ax[2].set_ylabel('Frequency')"
   ]
  },
  {
   "cell_type": "code",
   "execution_count": null,
   "id": "bd2a13a4",
   "metadata": {},
   "outputs": [],
   "source": [
    "# Plotting\n",
    "f, ax = plt.subplots(figsize=(15, 10))\n",
    "plt.subplots_adjust(hspace=0.5, wspace=0.5)\n",
    "sns.despine(f)\n",
    "sns.lineplot(x='yr', y='count', data=low_wid_counts, ax=ax, color='green')\n",
    "sns.lineplot(x='yr', y='count', data=med_wid_counts, ax=ax, color='orange')\n",
    "sns.lineplot(x='yr', y='count', data=high_wid_counts, ax=ax, color='red')\n",
    "ax.set_title('Number of Tornadoes over time (by width)')\n",
    "ax.set_ylabel('Frequency')"
   ]
  },
  {
   "cell_type": "code",
   "execution_count": null,
   "id": "4f6aeac2",
   "metadata": {},
   "outputs": [],
   "source": [
    "# Plotting\n",
    "f, ax = plt.subplots(3, 1, figsize=(15, 10))\n",
    "plt.subplots_adjust(hspace=0.5, wspace=0.5)\n",
    "sns.despine(f)\n",
    "sns.lineplot(x='yr', y='count', data=low_len_counts, ax=ax[0], color='orange')\n",
    "ax[0].set_title('Number of Short-Track Tornadoes Over Time')\n",
    "ax[0].set_ylabel('Number of Short-Track Tornadoes')\n",
    "\n",
    "sns.lineplot(x='yr', y='count', data=med_len_counts, ax=ax[1], color='orange')\n",
    "ax[1].set_title('Number of Medium-Track Tornadoes Over Time')\n",
    "ax[1].set_ylabel('Number of Medium-Track Tornadoes')\n",
    "\n",
    "sns.lineplot(x='yr', y='count', data=high_len_counts, ax=ax[2], color='orange')\n",
    "ax[2].set_title('Number of Long-Track Tornadoes Over Time')\n",
    "ax[2].set_ylabel('Number of Long-Track Tornadoes')"
   ]
  },
  {
   "cell_type": "code",
   "execution_count": null,
   "id": "f4878c3b",
   "metadata": {},
   "outputs": [],
   "source": [
    "# Plotting\n",
    "f, ax = plt.subplots(figsize=(15, 10))\n",
    "plt.subplots_adjust(hspace=0.5, wspace=0.5)\n",
    "sns.despine(f)\n",
    "sns.lineplot(x='yr', y='count', data=low_len_counts, ax=ax, color='green')\n",
    "sns.lineplot(x='yr', y='count', data=med_len_counts, ax=ax, color='orange')\n",
    "sns.lineplot(x='yr', y='count', data=high_len_counts, ax=ax, color='red')\n",
    "ax.set_title('Number of Tornadoes over time (by length)')\n",
    "ax.set_ylabel('Frequency')"
   ]
  },
  {
   "cell_type": "code",
   "execution_count": null,
   "id": "0cf3307c",
   "metadata": {},
   "outputs": [],
   "source": [
    "# Plotting\n",
    "f, ax = plt.subplots(figsize=(15, 10))\n",
    "sns.despine(f)\n",
    "sns.lineplot(x='yr', y='count', data=high_wid_counts, ax=ax, color='green')\n",
    "ax.set_title('Number of Wide Tornadoes Over Time')\n",
    "ax.set_ylabel('Number of Wide Tornadoes')\n",
    "plt.show()"
   ]
  },
  {
   "cell_type": "code",
   "execution_count": null,
   "id": "61f99ed3",
   "metadata": {},
   "outputs": [],
   "source": [
    "# Plotting\n",
    "f, ax = plt.subplots(figsize=(15, 10))\n",
    "sns.despine(f)\n",
    "sns.scatterplot(x='yr', y='Outside Alley Counts', data=high_wid_counts2, ax=ax, color='green')\n",
    "ax.set_title('Number of Wide Tornadoes Over Time')\n",
    "ax.set_ylabel('Number of Wide Tornadoes')\n",
    "plt.show()"
   ]
  },
  {
   "cell_type": "code",
   "execution_count": null,
   "id": "29f84cd3",
   "metadata": {},
   "outputs": [],
   "source": [
    "# Plotting\n",
    "f, ax = plt.subplots(figsize=(15, 10))\n",
    "sns.despine(f)\n",
    "sns.scatterplot(x='yr', y='count', data=high_wid_counts, ax=ax, color='green')\n",
    "ax.set_title('Number of Wide Tornadoes Over Time')\n",
    "ax.set_ylabel('Number of Wide Tornadoes')\n",
    "plt.show()"
   ]
  },
  {
   "cell_type": "code",
   "execution_count": null,
   "id": "bd468319",
   "metadata": {},
   "outputs": [],
   "source": [
    "corr_matrix = tornadoes.corr(numeric_only=True)\n",
    "corr_matrix"
   ]
  },
  {
   "cell_type": "code",
   "execution_count": null,
   "id": "1bffab26",
   "metadata": {},
   "outputs": [],
   "source": [
    "# Plot the heatmap\n",
    "plt.figure(figsize=(12, 10))  # Adjust the size as needed\n",
    "sns.heatmap(corr_matrix, annot=True, cmap='coolwarm', annot_kws={\"size\": 6})\n",
    "plt.show()"
   ]
  },
  {
   "cell_type": "code",
   "execution_count": null,
   "id": "4cf59de2",
   "metadata": {},
   "outputs": [],
   "source": [
    "# Plotting\n",
    "f, ax = plt.subplots(figsize=(12, 8))\n",
    "sns.despine(f)\n",
    "sns.scatterplot(x='yr', y='inj', hue='wid_level', data=tornadoes)\n",
    "ax.set_title('Injuries due to Tornadoes Over Time (1950-2022)', weight='bold')\n",
    "ax.set_xlabel('Year', weight='bold')\n",
    "ax.set_ylabel('Number of Injuries', weight='bold')\n",
    "plt.show()"
   ]
  },
  {
   "cell_type": "code",
   "execution_count": null,
   "id": "5f9a13f6",
   "metadata": {},
   "outputs": [],
   "source": [
    "# Plotting\n",
    "f, ax = plt.subplots(figsize=(12, 8))\n",
    "sns.despine(f)\n",
    "sns.scatterplot(x='yr', y='fat', hue='wid_level', data=tornadoes)\n",
    "ax.set_title('Fatalities due to Tornadoes Over Time (1950-2022)', weight='bold')\n",
    "ax.set_xlabel('Year', weight='bold')\n",
    "ax.set_ylabel('Number of Fatalities', weight='bold')\n",
    "plt.show()"
   ]
  },
  {
   "cell_type": "code",
   "execution_count": null,
   "id": "d3c76aa7",
   "metadata": {},
   "outputs": [],
   "source": [
    "# Plotting\n",
    "f, ax = plt.subplots(figsize=(12, 8))\n",
    "sns.despine(f)\n",
    "sns.scatterplot(x='yr', y='fat', hue='wid_level', data=tornadoes)\n",
    "ax.set_title('Fatalities due to Tornadoes Over Time (1950-2022)', weight='bold')\n",
    "ax.set_xlabel('Year', weight='bold')\n",
    "ax.set_ylabel('Number of Fatalities', weight='bold')\n",
    "plt.show()"
   ]
  },
  {
   "cell_type": "code",
   "execution_count": null,
   "id": "a8663df0",
   "metadata": {},
   "outputs": [],
   "source": [
    "import numpy as np\n",
    "\n",
    "# read the csv file\n",
    "df = pd.read_csv(\"tornados.csv\")\n",
    "# Filter and group the data by year to analyze trends over time\n",
    "df['date'] = pd.to_datetime(df['date'])  # Convert the 'date' column to a datetime object\n",
    "df['yr'] = df['date'].dt.year  # Extract the year from the 'date' column\n",
    "# Group by year and calculate property loss and fatalities\n",
    "property_loss_by_year = df.groupby('yr')['loss'].sum()\n",
    "fatalities_by_year = df.groupby('yr')['fat'].sum()\n",
    "# Calculate mean and median for property loss and fatalities for each year\n",
    "property_loss_mean = df.groupby('yr')['loss'].mean()\n",
    "property_loss_median = df.groupby('yr')['loss'].median()\n",
    "fatalities_mean = df.groupby('yr')['fat'].mean()\n",
    "fatalities_median = df.groupby('yr')['fat'].median()\n",
    "# tornado path length\n",
    "path_length_mean = df.groupby('yr')['len'].mean()\n",
    "path_length_median = df.groupby('yr')['len'].median()\n",
    "# tornado severity\n",
    "tornado_severity_mean = df.groupby('yr')['mag'].mean()\n",
    "all_avg_severity = df['mag'].mean()\n",
    "tornado_severity_median = df.groupby('yr')['mag'].median()\n",
    "print(\"\\nMean Property Loss by Year:\")\n",
    "print(property_loss_mean)\n",
    "print(\"\\nMedian Property Loss by Year:\")\n",
    "print(property_loss_median)\n",
    "print(\"\\nMean Fatalities by Year:\")\n",
    "print(fatalities_mean)\n",
    "print(\"\\nMedian Fatalities by Year:\")\n",
    "print(fatalities_median)\n",
    "print(\"\\nAverage Tornado Path Length by Year:\")\n",
    "print(path_length_mean)\n",
    "print(\"\\nMedian Tornado Path Length by Year:\")\n",
    "print(path_length_median)\n",
    "print(\"\\nTrend in Tornado Severity Over Time:\")\n",
    "print(tornado_severity_mean.pct_change())\n",
    "print(\"\\nAverage Tornado Severity by Year:\")\n",
    "print(tornado_severity_mean)\n",
    "print(\"\\nMedian Tornado Severity by Year:\")\n",
    "print(tornado_severity_median)\n",
    "#graph to represent loss, fatalities, path length, and tornado severity\n",
    "plt.figure(figsize=(16, 16))\n",
    "plt.subplot(4, 1, 1)\n",
    "plt.plot(property_loss_by_year.index, property_loss_by_year, label='Property Loss')\n",
    "plt.title('Property Loss due to Tornadoes Over Time')\n",
    "plt.xlabel('Year')\n",
    "plt.ylabel('Property Loss')\n",
    "plt.legend()\n",
    "plt.subplot(4, 1, 2)\n",
    "plt.plot(fatalities_by_year.index, fatalities_by_year, label='Fatalities', color='orange')\n",
    "plt.title('Fatalities due to Tornadoes Over Time')\n",
    "plt.xlabel('Year')\n",
    "plt.ylabel('Fatalities')\n",
    "plt.legend()\n",
    "plt.subplot(4, 1, 3)\n",
    "plt.plot(path_length_mean.index, path_length_mean, label='Average Path Length', color='green')\n",
    "plt.plot(path_length_median.index, path_length_median, label='Median Path Length', color='blue')\n",
    "plt.title('Tornado Path Length Over Time')\n",
    "plt.xlabel('Year')\n",
    "plt.ylabel('Path Length')\n",
    "plt.legend()\n",
    "plt.subplot(4, 1, 4)\n",
    "plt.plot(tornado_severity_mean.index, tornado_severity_mean, label='Average Severity', color='red')\n",
    "plt.plot(tornado_severity_median.index, tornado_severity_median, label='Median Severity', color='purple')\n",
    "# plt.plot(0,all_avg_severity, label=\"Cumulative Avg Severity\", color='blue')\n",
    "plt.axhline(y=np.nanmean(df['mag']))\n",
    "plt.title('Tornado Severity Over Time')\n",
    "plt.xlabel('Year')\n",
    "plt.ylabel('Tornado Severity')\n",
    "plt.legend()\n",
    "plt.tight_layout()  \n",
    "plt.show()"
   ]
  },
  {
   "cell_type": "code",
   "execution_count": null,
   "id": "fac1c938",
   "metadata": {},
   "outputs": [],
   "source": [
    "import matplotlib.ticker as mtick\n",
    "\n",
    "injuries_by_year = df.groupby('yr')['inj'].sum()\n",
    "\n",
    "# Calculate mean and median for property loss and fatalities for each year\n",
    "injuries_mean = df.groupby('yr')['inj'].mean()\n",
    "injuries_median = df.groupby('yr')['inj'].median()\n",
    "\n",
    "#graph to represent loss, fatalities, path length, and tornado severity\n",
    "plt.figure(num=1,figsize=(10, 2))\n",
    "plt.subplot(1, 1, 1)\n",
    "plt.plot(property_loss_mean.index, property_loss_mean, label='Property Loss')\n",
    "plt.title('Avg Property Loss due to Tornadoes Over Time')\n",
    "plt.xlabel('Year')\n",
    "plt.ylabel('Property Loss (Dollars)')\n",
    "plt.legend()\n",
    "\n",
    "plt.figure(num=2,figsize=(10, 2))\n",
    "plt.subplot(1, 2, 1)\n",
    "plt.plot(fatalities_mean.index, fatalities_mean, label='Avg Fatalities')\n",
    "plt.title('Avg Fatalities due to Tornadoes Over Time')\n",
    "plt.xlabel('Year')\n",
    "plt.ylabel('Fatalities')\n",
    "plt.legend()\n",
    "plt.subplot(1, 2, 2)\n",
    "plt.plot(injuries_mean.index, injuries_mean, label='Avg Injuries')\n",
    "plt.title('Avg Injuries due to Tornadoes Over Time')\n",
    "plt.xlabel('Year')\n",
    "plt.ylabel('Number of Injuries')\n",
    "plt.legend()"
   ]
  }
 ],
 "metadata": {
  "kernelspec": {
   "display_name": "base",
   "language": "python",
   "name": "python3"
  },
  "language_info": {
   "codemirror_mode": {
    "name": "ipython",
    "version": 3
   },
   "file_extension": ".py",
   "mimetype": "text/x-python",
   "name": "python",
   "nbconvert_exporter": "python",
   "pygments_lexer": "ipython3",
   "version": "3.11.4"
  }
 },
 "nbformat": 4,
 "nbformat_minor": 5
}
