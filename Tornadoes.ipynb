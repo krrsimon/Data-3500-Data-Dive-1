{
 "cells": [
  {
   "cell_type": "markdown",
   "id": "08baf5b9",
   "metadata": {},
   "source": [
    "# Tornadoes [1950-2022]"
   ]
  },
  {
   "cell_type": "markdown",
   "id": "3bbe8716",
   "metadata": {},
   "source": [
    "Source: https://www.kaggle.com/datasets/sujaykapadnis/tornados\n",
    "\n"
   ]
  },
  {
   "cell_type": "markdown",
   "id": "254c6143",
   "metadata": {},
   "source": [
    "### Questions:\n",
    "1. **Tornado severity**\n",
    "- Has the length of paths changed? (look at both the average, and median)\n",
    "- Has the severity (on F/EF scale) changed?\n",
    "\n",
    "2. **Tornado freqency**\n",
    "- Has tornado frequency increased over time?\n",
    "- Has the freqency of more severe tornados increased over time?\n",
    "\n",
    "3. **Tornado zone** (Optional)\n",
    "- Has \"tornado alley\" increased/decreased in size over time? (look at \"states effected\")\n",
    "- And/or has this area moved?  \n",
    "\n"
   ]
  },
  {
   "cell_type": "markdown",
   "id": "6750dde5",
   "metadata": {},
   "source": [
    "### Data Acquisition:  \n",
    "Here are the first few rows of the file, `Tornadoes.csv`."
   ]
  },
  {
   "cell_type": "code",
   "execution_count": null,
   "id": "7024e681",
   "metadata": {},
   "outputs": [],
   "source": [
    "import pandas as pd\n",
    "\n",
    "tornadoes = pd.read_csv('tornados.csv', index_col=None)\n",
    "tornadoes.head()"
   ]
  },
  {
   "cell_type": "code",
   "execution_count": null,
   "id": "faecc321",
   "metadata": {},
   "outputs": [],
   "source": [
    "tornadoes.info()"
   ]
  },
  {
   "cell_type": "code",
   "execution_count": null,
   "id": "49fd8b8c",
   "metadata": {},
   "outputs": [],
   "source": [
    "tornadoes.head()"
   ]
  },
  {
   "cell_type": "markdown",
   "id": "f77fb6d4",
   "metadata": {},
   "source": [
    "Here's a brief overview of the columns:  \n",
    "\n",
    "- `om`: Integer - Tornado number. Effectively an ID for this tornado in this year.\n",
    "- `yr`: Integer - Year, 1950-2022.\n",
    "- `mo`: Integer - Month, 1-12.\n",
    "- `dy`: Integer - Day of the month, 1-31.\n",
    "- `date`: Date - Date.\n",
    "- `time`: Time - Time.\n",
    "- `tz`: Character - Canonical tz database timezone.\n",
    "- `datetime_utc`: Datetime - Date and time normalized to UTC.\n",
    "- `st`: Character - Two-letter postal abbreviation for the state (DC = Washington, DC; PR = Puerto Rico; VI = Virgin Islands).\n",
    "- `stf`: Integer - State FIPS (Federal Information Processing Standards) number.\n",
    "- `mag`: Integer - Magnitude on the F scale (EF beginning in 2007). Some of these values are estimated (see fc).\n",
    "- `inj`: Integer - Number of injuries. When summing for state totals, use sn == 1 (see below).\n",
    "- `fat`: Integer - Number of fatalities. When summing for state totals, use sn == 1 (see below).\n",
    "- `loss`: Double - Estimated property loss information in dollars. Prior to 1996, values were grouped into ranges. The reported number for such years is the maximum of its range.\n",
    "- `slat`: Double - Starting latitude in decimal degrees.\n",
    "- `slon`: Double - Starting longitude in decimal degrees.\n",
    "- `elat`: Double - Ending latitude in decimal degrees.\n",
    "- `elon`: Double - Ending longitude in decimal degrees.\n",
    "- `len`: Double - Length in miles.\n",
    "- `wid`: Double - Width in yards.\n",
    "- `ns`: Integer - Number of states affected by this tornado. 1, 2, or 3.\n",
    "- `sn`: Integer - State number for this row. 1 means the row contains the entire track information for this state, 0 means there is at least one more entry for this state for this tornado (om + yr).\n",
    "- `f1`: Integer - FIPS code for the 1st county.\n",
    "- `f2`: Integer - FIPS code for the 2nd county.\n",
    "- `f3`: Integer - FIPS code for the 3rd county.\n",
    "- `f4`: Integer - FIPS code for the 4th county.\n",
    "- `fc`: Logical - Was the mag column estimated?\n",
    "\n",
    "### Initial Data Exploration\n",
    "\n",
    "Let's begin by:\n",
    "1. Checking the shape (number of rows and columns) of the dataset. \n",
    "2. Identifying the data type for each variable.  \n",
    "3. Obtaining basic statistics for quantitative/numeric columns.  \n"
   ]
  },
  {
   "cell_type": "code",
   "execution_count": null,
   "id": "2334876d",
   "metadata": {},
   "outputs": [],
   "source": [
    "# Get the size of the dataset\n",
    "print(\"There are \" + str(tornadoes.shape[1]) + \" columns and \" + str(tornadoes.shape[0]) + \" rows. \")\n",
    "\n",
    "# Get data types for each column\n",
    "print(\"\\nThese are the data types:\\n\", tornadoes.dtypes)\n",
    "\n",
    "# Get basic statistics for numeric columns\n",
    "print(\"\\nThese are the basic statistics for the numeric columns:\\n\", tornadoes.describe())\n"
   ]
  },
  {
   "cell_type": "markdown",
   "id": "45708f95",
   "metadata": {},
   "source": [
    "Here's a summary of our exploration:\n",
    "\n",
    "### Dataset Size: \n",
    "- Number of rows (tornadoes): 68,693\n",
    "- Number of columns (variables): 21\n",
    "\n",
    "### Data Types:\n",
    "\n",
    "- **Numerical Data (int64 or float64)**: `om`, `yr`, `mo`, `dy`, `stf`, `mag`, `inj`, `fat`, `loss`, `slat`, `slon`, `elat`, `elon`, `len`, `wid`, `ns`, `sn`, `f1`, `f2`, `f3`, `f4`\n",
    "- **Categorical Data (object)**: `date`, `time`, `tz`, `datetime_utc`, `st`\n",
    "- **Boolean Data (bool)**: `fc`\n",
    "\n",
    "### Basic Statistics:\n",
    "For the numerical columns:\n",
    "- `om`: Ranges from 1 to 622,080.\n",
    "- `yr`: Ranges from 1950 to 2022.\n",
    "- `mo`: Ranges from 1 to 12.\n",
    "- `dy`: Ranges from 1 to 31.\n",
    "- `stf`: Ranges from 1 to 78.\n",
    "- `mag`: Ranges from 0 to 5.\n",
    "- `inj`: Ranges from 0 to 1,740.\n",
    "- `fat`: Ranges from 0 to 158.\n",
    "- `loss`: Ranges from $50 to $2,800,100,000.\n",
    "- `slat`: Ranges from 17.7212 to 61.02.\n",
    "- `slon`: No specific range provided.\n",
    "- `elat`: Has a minimum value of 0.\n",
    "- `elon`: No specific range provided.\n",
    "- `len`: Ranges from 0 to 234.7 miles.\n",
    "- `wid`: Ranges from 0 to 4,576 yards.\n",
    "- `ns`: Ranges from 1 to 3.\n",
    "- `sn`: Ranges from 0 to 1.\n",
    "- `f1`: Has a maximum value of 810.\n",
    "- `f2`: Has a maximum value of 820.\n",
    "- `f3`: Has a maximum value of 710.\n",
    "- `f4`: Has a maximum value of 507.\n",
    "\n",
    "\n",
    "\n",
    "Next, we'll proceed with the Data Cleansing phase. "
   ]
  },
  {
   "cell_type": "markdown",
   "id": "e01599bb",
   "metadata": {},
   "source": [
    "### Data Cleansing: \n",
    "1. **Handle missing values**: \n",
    "- We'll first identify columns with missing values.  \n",
    "- Then we'll decide whether the impute, fill, or drop these missing values based on the nature and significance of each column.  \n",
    "\n",
    "2. **Remove duplicates**:\n",
    "- We'll check for duplicate rows and remove them if any.  \n",
    "\n",
    "3. **Data type conversion**:\n",
    "- Ensure that each column is of the correct data type.  \n",
    "\n",
    "4. **Outlier detection**:\n",
    "- We'll briefly look for potential outliers using statistical methods or visualization.  \n",
    "\n",
    "5. **Standardization**:\n",
    "- If necessary, we'll standardize values. This step might be more relevant during modeling, especially if we use algorithms sensitive to feature scales. \n",
    "\n",
    "Let's start by checking for missing values. \n"
   ]
  },
  {
   "cell_type": "code",
   "execution_count": null,
   "id": "03362ecd",
   "metadata": {},
   "outputs": [],
   "source": [
    "# Check for missing values\n",
    "missing_values = tornadoes.isnull().sum()\n",
    "\n",
    "# Calculate missing value counts\n",
    "missing_values = pd.DataFrame(missing_values[missing_values > 0])\n",
    "\n",
    "# Calculate missing percent of values for each column\n",
    "missing_pct = ((missing_values/tornadoes.shape[0]*100).round(3))\n",
    "\n",
    "# Add missing count and percent to table\n",
    "missing_values[\"% Missing\"] = missing_pct\n",
    "missing_values.rename(columns={0: 'Count Missing'}, inplace=True)\n",
    "missing_values"
   ]
  },
  {
   "cell_type": "markdown",
   "id": "cf6afb1e",
   "metadata": {},
   "source": [
    "Here are the columns with missing values:\n",
    "\n",
    "- **mag**: 756 missing values, or 1.101%\n",
    "- **loss**: 27170 missing values, or 38.553%\n",
    "\n",
    "Let's strategize how to handle these:\n",
    "- **mag**: Drop rows with missing values since it only accounts for about 1% of data.\n",
    "- **loss**: Dropping this variable since it isn't needed."
   ]
  },
  {
   "cell_type": "code",
   "execution_count": null,
   "id": "23b510a7",
   "metadata": {},
   "outputs": [],
   "source": [
    "# Drop NA values from mag.\n",
    "tornadoes.dropna(subset=['mag'], inplace=True)\n",
    "\n",
    "# Drop loss variable.\n",
    "tornadoes.drop(['loss'], axis=1, inplace=True)"
   ]
  },
  {
   "cell_type": "code",
   "execution_count": null,
   "id": "e6867239",
   "metadata": {},
   "outputs": [],
   "source": [
    "tornadoes.info()"
   ]
  },
  {
   "cell_type": "markdown",
   "id": "2318c8f5",
   "metadata": {},
   "source": [
    "Now that missing values have been handled, we'll:\n",
    "2. **Remove Duplicates**\n",
    "3. **Convert Datatypes**\n",
    "4. **Detect Outliers**\n",
    "\n",
    "Let's start by checkinf for duplicate rows.  "
   ]
  },
  {
   "cell_type": "code",
   "execution_count": null,
   "id": "68f32fd9",
   "metadata": {},
   "outputs": [],
   "source": [
    "# Check for duplicate rows\n",
    "duplicate_rows = tornadoes.duplicated().sum()\n",
    "print(\"There are \" + str(duplicate_rows) + \" duplicate row(s).\\n\")\n",
    "\n",
    "\n",
    "# Get a boolean series indicating which rows are duplicates (including the original rows)\n",
    "duplicate_mask_all = tornadoes.duplicated(keep=False)\n",
    "\n",
    "# Use this mask to filter and display both the original and duplicate rows\n",
    "duplicate_rows_all_df = tornadoes[duplicate_mask_all]\n",
    "duplicate_rows_all_df"
   ]
  },
  {
   "cell_type": "code",
   "execution_count": null,
   "id": "95d263a1",
   "metadata": {},
   "outputs": [],
   "source": [
    "# Remove duplicate rows, if any\n",
    "if duplicate_rows > 0: \n",
    "    tornadoes.drop_duplicates(inplace=True)\n",
    "\n",
    "# Verify that the removal worked\n",
    "duplicate_rows = tornadoes.duplicated().sum()\n",
    "print(\"There are \" + str(duplicate_rows) + \" duplicate row(s).\\n\")"
   ]
  },
  {
   "cell_type": "markdown",
   "id": "1a1e9709",
   "metadata": {},
   "source": [
    "Next, let's check the data types in each column, and convert if necessary.  "
   ]
  },
  {
   "cell_type": "code",
   "execution_count": null,
   "id": "db07fd31",
   "metadata": {},
   "outputs": [],
   "source": [
    "# Display data types for each column\n",
    "current_data_types = tornadoes.dtypes\n",
    "current_data_types"
   ]
  },
  {
   "cell_type": "markdown",
   "id": "b288c37a",
   "metadata": {},
   "source": [
    "These data types seem app\n",
    "**Numerical Data Types**:\n",
    "- Continuous variables (floats): \n",
    "- Discrete variables (ints): `yr`, \n",
    "- Date/time variables (DateTime): `date`, `time`\n",
    "\n",
    "**Categorical Data Types**:\n",
    "- Dummy/indicator/coded variables (ints): `om`, `mo`, `dy`, \n",
    "- Strings/text information: "
   ]
  },
  {
   "cell_type": "markdown",
   "id": "445a5fd9",
   "metadata": {},
   "source": [
    "The current data types for each column are as follows:\n",
    "\n",
    "### Numerical Data Types\n",
    "**Continuous variables (floats)**: \n",
    "- `loss`: Estimated property loss in dollars.\n",
    "- `slat`: Starting latitude in decimal degrees.\n",
    "- `slon`: Starting longitude in decimal degrees.\n",
    "- `elat`: Ending latitude in decimal degrees.\n",
    "- `elon`: Ending longitude in decimal degrees.\n",
    "- `len`: Length in miles.\n",
    "- `wid`: Width in yards.\n",
    "\n",
    "**Discrete variables (ints)**: \n",
    "- `yr`: Year, 1950-2022.\n",
    "- `stf`: State FIPS number.\n",
    "- `mag`: Magnitude on the F scale.\n",
    "- `inj`: Number of injuries.\n",
    "- `fat`: Number of fatalities.\n",
    "- `ns`: Number of states affected by this tornado.\n",
    "- `sn`: State number for this row.\n",
    "- `f1`: FIPS code for the 1st county.\n",
    "- `f2`: FIPS code for the 2nd county.\n",
    "- `f3`: FIPS code for the 3rd county.\n",
    "- `f4`: FIPS code for the 4th county.\n",
    "\n",
    "**Date/time variables (DateTime)**: \n",
    "- `date`: Date.\n",
    "- `time`: Time.\n",
    "- `datetime_utc`: Date and time normalized to UTC.\n",
    "\n",
    "\n",
    "### Categorical Data Types\n",
    "**Dummy/indicator/coded variables (ints)**: \n",
    "- `om`: Tornado number (ID).\n",
    "- `mo`: Month, 1-12.\n",
    "- `dy`: Day of the month, 1-31.\n",
    "- `stf`: State FIPS number.\n",
    "- `mag`: Magnitude on the F scale.\n",
    "- `ns`: Number of states affected by this tornado.\n",
    "- `sn`: State number for this row.\n",
    "- `f1`: FIPS code for the 1st county.\n",
    "- `f2`: FIPS code for the 2nd county.\n",
    "- `f3`: FIPS code for the 3rd county.\n",
    "- `f4`: FIPS code for the 4th county.\n",
    "\n",
    "**Strings/textual information**: \n",
    "- `tz`: Canonical tz database timezone.\n",
    "- `st`: Two-letter postal abbreviation for the state.\n",
    "\n",
    "**Logical/Binary (usually int or bool)**: \n",
    "- `fc`: Was the `mag` column estimated?\n"
   ]
  },
  {
   "cell_type": "markdown",
   "id": "4dde983d",
   "metadata": {},
   "source": []
  }
 ],
 "metadata": {
  "kernelspec": {
   "display_name": "base",
   "language": "python",
   "name": "python3"
  },
  "language_info": {
   "codemirror_mode": {
    "name": "ipython",
    "version": 3
   },
   "file_extension": ".py",
   "mimetype": "text/x-python",
   "name": "python",
   "nbconvert_exporter": "python",
   "pygments_lexer": "ipython3",
   "version": "3.11.4"
  }
 },
 "nbformat": 4,
 "nbformat_minor": 5
}
