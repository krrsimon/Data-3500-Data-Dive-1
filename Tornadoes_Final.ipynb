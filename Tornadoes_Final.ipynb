{
 "cells": [
  {
   "cell_type": "markdown",
   "id": "08baf5b9",
   "metadata": {},
   "source": [
    "# Tornadoes [1950-2022]"
   ]
  },
  {
   "cell_type": "markdown",
   "id": "3bbe8716",
   "metadata": {},
   "source": [
    "Source: https://www.kaggle.com/datasets/sujaykapadnis/tornados\n",
    "\n"
   ]
  },
  {
   "cell_type": "markdown",
   "id": "f77fb6d4",
   "metadata": {},
   "source": [
    "variables:\n",
    "\n",
    "- `om`: Integer - Tornado number. Effectively an ID for this tornado in this year.\n",
    "- `yr`: Integer - Year, 1950-2022.\n",
    "- `mo`: Integer - Month, 1-12.\n",
    "- `dy`: Integer - Day of the month, 1-31.\n",
    "- `date`: Date - Date.\n",
    "- `time`: Time - Time.\n",
    "- `tz`: Character - Canonical tz database timezone.\n",
    "- `datetime_utc`: Datetime - Date and time normalized to UTC.\n",
    "- `st`: Character - Two-letter postal abbreviation for the state (DC = Washington, DC; PR = Puerto Rico; VI = Virgin Islands).\n",
    "- `stf`: Integer - State FIPS (Federal Information Processing Standards) number.\n",
    "- `mag`: Integer - Magnitude on the F scale (EF beginning in 2007). Some of these values are estimated (see fc).\n",
    "- `inj`: Integer - Number of injuries. When summing for state totals, use sn == 1 (see below).\n",
    "- `fat`: Integer - Number of fatalities. When summing for state totals, use sn == 1 (see below).\n",
    "- `loss`: Double - Estimated property loss information in dollars. Prior to 1996, values were grouped into ranges. The reported number for such years is the maximum of its range.\n",
    "- `slat`: Double - Starting latitude in decimal degrees.\n",
    "- `slon`: Double - Starting longitude in decimal degrees.\n",
    "- `elat`: Double - Ending latitude in decimal degrees.\n",
    "- `elon`: Double - Ending longitude in decimal degrees.\n",
    "- `len`: Double - Length in miles.\n",
    "- `wid`: Double - Width in yards.\n",
    "- `ns`: Integer - Number of states affected by this tornado. 1, 2, or 3.\n",
    "- `sn`: Integer - State number for this row. 1 means the row contains the entire track information for this state, 0 means there is at least one more entry for this state for this tornado (om + yr).\n",
    "- `f1`: Integer - FIPS code for the 1st county.\n",
    "- `f2`: Integer - FIPS code for the 2nd county.\n",
    "- `f3`: Integer - FIPS code for the 3rd county.\n",
    "- `f4`: Integer - FIPS code for the 4th county.\n",
    "- `fc`: Logical - Was the mag column estimated?"
   ]
  },
  {
   "cell_type": "markdown",
   "id": "254c6143",
   "metadata": {},
   "source": [
    "### Scenario:\n",
    "- We are hired by NOAA to investigate the US tornadic activity from historical data, from 1950 to today.\n",
    "\n",
    "### Objectives:\n",
    "- Understand the historical trends of tornadoes. This includes examination of qualities such as severity, duration, and geographical area affected.\n",
    "- Determine how these qualities have changed over time by comparing old figures to those from present day.\n",
    "- Make statement(s) about the pattern(s) in tornadic activity we find. We hope to use any found information to make recommendations for next steps in more robust efforts to quantify future expectations of tornadic activity, such as predictive modeling and forecasting.  \n",
    "- \n",
    "-\n",
    "\n",
    "### Questions:\n",
    "1. **Tornado severity**\n",
    "- Has the length of paths changed? (look at both the average, and median)\n",
    "- Has the severity (on F/EF scale) changed?\n",
    "\n",
    "2. **Tornado freqency**\n",
    "- Has tornado frequency increased over time?\n",
    "- Has the freqency of more severe tornados increased over time?\n",
    "\n",
    "3. **Tornado zone** (Optional)\n",
    "- Has \"tornado alley\" increased/decreased in size over time? (look at \"states effected\")\n",
    "- And/or has this area moved?  \n",
    "\n"
   ]
  },
  {
   "cell_type": "markdown",
   "id": "6750dde5",
   "metadata": {},
   "source": [
    "### Data Acquisition\n",
    "`Tornadoes.csv`"
   ]
  },
  {
   "cell_type": "code",
   "execution_count": null,
   "id": "7024e681",
   "metadata": {},
   "outputs": [],
   "source": [
    "import pandas as pd\n",
    "\n",
    "tornadoes = pd.read_csv('tornados.csv', index_col=None)\n",
    "tornadoes.head()\n"
   ]
  },
  {
   "cell_type": "code",
   "execution_count": null,
   "id": "faecc321",
   "metadata": {},
   "outputs": [],
   "source": [
    "tornadoes.info()"
   ]
  },
  {
   "cell_type": "markdown",
   "id": "92487729",
   "metadata": {},
   "source": [
    "### Initial Data Exploration\n",
    "1. check dataset shape\n",
    "2. check data types\n",
    "3. obtain basic statistics for quantitative/numeric columns"
   ]
  },
  {
   "cell_type": "code",
   "execution_count": null,
   "id": "397ba116",
   "metadata": {},
   "outputs": [],
   "source": [
    "# Get the size of the dataset\n",
    "print(\"~~~~~~~~~~~~~~~~~~~~~~~~~~~~~~~~~~~~~~~~~~~~~~~~~~~~~~~~~~~~~~~~~~~~~~~~~~~~~~~~~~~~~~~~~~~~~~~~~~~~~~~~~~\\nThere are \" + str(tornadoes.shape[1]) + \" columns and \" + str(tornadoes.shape[0]) + \" rows.\\n~~~~~~~~~~~~~~~~~~~~~~~~~~~~~~~~~~~~~~~~~~~~~~~~~~~~~~~~~~~~~~~~~~~~~~~~~~~~~~~~~~~~~~~~~~~~~~~~~~~~~~~~~~\\n\")"
   ]
  },
  {
   "cell_type": "code",
   "execution_count": null,
   "id": "0f5d6482",
   "metadata": {},
   "outputs": [],
   "source": [
    "# Display columns in tornadoes\n",
    "tornadoes.columns"
   ]
  },
  {
   "cell_type": "code",
   "execution_count": null,
   "id": "2f4b94d0",
   "metadata": {},
   "outputs": [],
   "source": [
    "# Display dtypes of all variables\n",
    "tornadoes.dtypes"
   ]
  },
  {
   "cell_type": "code",
   "execution_count": null,
   "id": "2e3bf02f",
   "metadata": {},
   "outputs": [],
   "source": [
    "# Display descriptive stats for numerical columns\n",
    "tornadoes.describe().round(3)"
   ]
  },
  {
   "cell_type": "markdown",
   "id": "45708f95",
   "metadata": {},
   "source": [
    "### Dataset Size: \n",
    "- Number of rows (tornadoes): 68,693\n",
    "- Number of columns (variables): 21\n",
    "\n",
    "### Data Types:\n",
    "\n",
    "- **Numerical Data (int64 or float64)**: `om`, `yr`, `mo`, `dy`, `stf`, `mag`, `inj`, `fat`, `loss`, `slat`, `slon`, `elat`, `elon`, `len`, `wid`, `ns`, `sn`, `f1`, `f2`, `f3`, `f4`\n",
    "- **Categorical Data (object)**: `date`, `time`, `tz`, `datetime_utc`, `st`\n",
    "- **Boolean Data (bool)**: `fc`\n",
    "\n",
    "### Basic Statistics:\n",
    "For the numerical columns:\n",
    "- `om`: Ranges from 1 to 622,080.\n",
    "- `yr`: Ranges from 1950 to 2022.\n",
    "- `mo`: Ranges from 1 to 12.\n",
    "- `dy`: Ranges from 1 to 31.\n",
    "- `stf`: Ranges from 1 to 78.\n",
    "- `mag`: Ranges from 0 to 5.\n",
    "- `inj`: Ranges from 0 to 1,740.\n",
    "- `fat`: Ranges from 0 to 158.\n",
    "- `loss`: Ranges from $50 to $2,800,100,000.\n",
    "- `slat`: Ranges from 17.7212 to 61.02.\n",
    "- `slon`: No specific range provided.\n",
    "- `elat`: Has a minimum value of 0.\n",
    "- `elon`: No specific range provided.\n",
    "- `len`: Ranges from 0 to 234.7 miles.\n",
    "- `wid`: Ranges from 0 to 4,576 yards.\n",
    "- `ns`: Ranges from 1 to 3.\n",
    "- `sn`: Ranges from 0 to 1.\n",
    "- `f1`: Has a maximum value of 810.\n",
    "- `f2`: Has a maximum value of 820.\n",
    "- `f3`: Has a maximum value of 710.\n",
    "- `f4`: Has a maximum value of 507."
   ]
  },
  {
   "cell_type": "markdown",
   "id": "d797366c",
   "metadata": {},
   "source": [
    "# Data Cleansing: \n",
    "1. identify **missing values** and decide whether to impute, fill, or drop.\n",
    "\n",
    "2. check for and remove **duplicates**.\n",
    "\n",
    "3. ensure that each column is of the correct **data type**, and convert if not.\n",
    "\n",
    "4. look for **outliers** using statistical methods or visualization.  \n",
    "\n",
    "5. **standardization**: if necessary"
   ]
  },
  {
   "cell_type": "code",
   "execution_count": null,
   "id": "03362ecd",
   "metadata": {},
   "outputs": [],
   "source": [
    "# Check for missing values\n",
    "missing_values = tornadoes.isnull().sum()\n",
    "\n",
    "# Calculate missing value counts\n",
    "missing_values = pd.DataFrame(missing_values[missing_values > 0])\n",
    "\n",
    "# Calculate missing percent of values for each column\n",
    "missing_pct = ((missing_values/tornadoes.shape[0]*100).round(3))\n",
    "\n",
    "# Add missing count and percent to table\n",
    "missing_values[\"% Missing\"] = missing_pct\n",
    "missing_values.rename(columns={0: 'Count Missing'}, inplace=True)\n",
    "missing_values"
   ]
  },
  {
   "cell_type": "code",
   "execution_count": null,
   "id": "bb7e8308",
   "metadata": {},
   "outputs": [],
   "source": [
    "# Visualize missing values\n",
    "import missingno as msno\n",
    "msno.matrix(tornadoes)"
   ]
  },
  {
   "cell_type": "markdown",
   "id": "cf6afb1e",
   "metadata": {},
   "source": [
    "columns with missing values:\n",
    "- **mag**: 756 missing values, or 1.101%\n",
    "- **loss**: 27170 missing values, or 38.553%\n",
    "\n",
    "how we will handle these:\n",
    "- **mag**: Drop rows with missing values since it only accounts for about 1% of data.\n",
    "- **loss**: Dropping this variable since it isn't needed."
   ]
  },
  {
   "cell_type": "code",
   "execution_count": null,
   "id": "d844eaa6",
   "metadata": {},
   "outputs": [],
   "source": [
    "# Fill missing loss variable.\n",
    "tornadoes['loss'].fillna(method='ffill',inplace=True)"
   ]
  },
  {
   "cell_type": "code",
   "execution_count": null,
   "id": "2a5deb63",
   "metadata": {},
   "outputs": [],
   "source": [
    "tornadoes.info()"
   ]
  },
  {
   "cell_type": "markdown",
   "id": "2318c8f5",
   "metadata": {},
   "source": [
    "now that missing values have been handled, we'll check for duplicates. "
   ]
  },
  {
   "cell_type": "code",
   "execution_count": null,
   "id": "68f32fd9",
   "metadata": {},
   "outputs": [],
   "source": [
    "# Check for duplicate rows\n",
    "duplicate_rows = tornadoes.duplicated().sum()\n",
    "print(\"There are \" + str(duplicate_rows) + \" duplicate row(s).\\n\")\n",
    "\n",
    "# Get a boolean series indicating which rows are duplicates (including the original rows)\n",
    "duplicate_mask_all = tornadoes.duplicated(keep=False)\n",
    "\n",
    "# Use this mask to filter and display both the original and duplicate rows\n",
    "duplicate_rows_all_df = tornadoes[duplicate_mask_all]\n",
    "duplicate_rows_all_df"
   ]
  },
  {
   "cell_type": "code",
   "execution_count": null,
   "id": "95d263a1",
   "metadata": {},
   "outputs": [],
   "source": [
    "# Remove duplicate rows, if any\n",
    "if duplicate_rows > 0: \n",
    "    tornadoes.drop_duplicates(inplace=True)\n",
    "\n",
    "# Verify that the removal worked\n",
    "duplicate_rows = tornadoes.duplicated().sum()\n",
    "print(\"There are \" + str(duplicate_rows) + \" duplicate row(s).\\n\")"
   ]
  },
  {
   "cell_type": "markdown",
   "id": "1a1e9709",
   "metadata": {},
   "source": [
    "now let's determine if any data types need conversion."
   ]
  },
  {
   "cell_type": "code",
   "execution_count": null,
   "id": "db07fd31",
   "metadata": {},
   "outputs": [],
   "source": [
    "# Display data types for each column\n",
    "tornadoes.dtypes"
   ]
  },
  {
   "cell_type": "markdown",
   "id": "7eb29a48",
   "metadata": {},
   "source": [
    "we might consider changing `date` (the date), `time` (the time), and `datetime_utc` (the date and time normalized to UTC) from objects to DateTime. But we can wait to do this until we know we need these columns"
   ]
  },
  {
   "cell_type": "markdown",
   "id": "f9a69e53",
   "metadata": {},
   "source": [
    "### 1. quick feature creation\n",
    "**create `region`:**  \n",
    "below we establish a dictionary for all 50 possible us states. then, iterate thru `st` and classify each state into a region by postal code.  "
   ]
  },
  {
   "cell_type": "code",
   "execution_count": null,
   "id": "661aae03",
   "metadata": {},
   "outputs": [],
   "source": [
    "# Dictionary to map the 50 US states to regions\n",
    "states_and_regions = {\n",
    "    'ME': 'New England', 'NH': 'New England', 'VT': 'New England', 'MA': 'New England', \n",
    "    'RI': 'New England', 'CT': 'New England',\n",
    "    \n",
    "    'NY': 'Mid-Atlantic', 'NJ': 'Mid-Atlantic', 'PA': 'Mid-Atlantic', \n",
    "    'DE': 'Mid-Atlantic', 'MD': 'Mid-Atlantic', 'DC': 'Mid-Atlantic', \n",
    "    \n",
    "    'VA': 'Upper South', 'WV': 'Upper South', 'KY': 'Upper South', 'TN': 'Upper South', \n",
    "    'NC': 'Upper South', 'AR': 'Upper South', 'MO': 'Upper South',\n",
    "    \n",
    "    'OK': 'Deep South', 'SC': 'Deep South', 'GA': 'Deep South', 'AL': 'Deep South', \n",
    "    'MS': 'Deep South', 'LA': 'Deep South', 'FL': 'Deep South',\n",
    "    \n",
    "    'TX': 'Southwest', 'AZ': 'Southwest', 'NM': 'Southwest', \n",
    "    \n",
    "    'CA': 'Pacific', 'NV': 'Pacific', 'OR': 'Pacific', 'WA': 'Pacific', 'HI': 'Pacific', \n",
    "    \n",
    "    'AK': 'Pacific Northwest',\n",
    "    \n",
    "    'OH': 'Midwest', 'MI': 'Midwest', 'IN': 'Midwest', 'IL': 'Midwest', 'WI': 'Midwest',\n",
    "    'MN': 'Midwest', 'IA': 'Midwest', 'NE': 'Midwest', 'SD': 'Midwest', 'ND': 'Midwest', \n",
    "    'KS': 'Midwest',\n",
    "    \n",
    "    'MT': 'Mountain West', 'ID': 'Mountain West', 'WY': 'Mountain West', \n",
    "    'CO': 'Mountain West', 'UT': 'Mountain West'\n",
    "}\n",
    "\n",
    "# Map the states to a region in new column\n",
    "tornadoes['region'] = tornadoes['st'].map(states_and_regions)"
   ]
  },
  {
   "cell_type": "markdown",
   "id": "5ffacfae",
   "metadata": {},
   "source": [
    "**create `decade`:**  \n",
    "this will iterate thru `yr` and attach the categorical decade label in new column called `decade`. in the format e.g. \"1950-1959\""
   ]
  },
  {
   "cell_type": "code",
   "execution_count": null,
   "id": "996e2856",
   "metadata": {},
   "outputs": [],
   "source": [
    "# classifies each row's `yr` into new column of objects, `decade`\n",
    "tornadoes['decade'] = tornadoes['yr'].apply(lambda x: f\"{x//10*10}-{x//10*10+9}\")"
   ]
  },
  {
   "cell_type": "markdown",
   "id": "d57c18f0",
   "metadata": {},
   "source": [
    " **create `wid_level`**  \n",
    " this will iterate through `wid`, a continuous variable, to classify tornado widths based on three classes tornadoes can be organized into.  \n",
    " *get source for class info.*  "
   ]
  },
  {
   "cell_type": "code",
   "execution_count": null,
   "id": "09aa13f1",
   "metadata": {},
   "outputs": [],
   "source": [
    "# Create new column that classifies each tornado by width\n",
    "def wid_categories(wid):\n",
    "    if wid < 50:\n",
    "        return 'Narrow (< 50 Yards)'\n",
    "    elif wid >= 50 and wid < 500:\n",
    "        return 'Medium (50 - 500 Yards)'\n",
    "    elif wid >= 500:\n",
    "        return 'Large (>= 500 Yards)'\n",
    "\n",
    "tornadoes['wid_level'] = tornadoes['wid'].apply(wid_categories)\n",
    "tornadoes['wid_level']"
   ]
  },
  {
   "cell_type": "markdown",
   "id": "fd003b56",
   "metadata": {},
   "source": [
    "**create `wid_category`**  \n",
    "*forgot if still needed this. might delete.*  "
   ]
  },
  {
   "cell_type": "code",
   "execution_count": null,
   "id": "ab1bea09",
   "metadata": {},
   "outputs": [],
   "source": [
    "# Create new column that classifies each tornado by width\n",
    "def wid_categories2(wid):\n",
    "    if wid < 50:\n",
    "        return 'Narrow'\n",
    "    elif wid >= 50 and wid < 500:\n",
    "        return 'Medium'\n",
    "    elif wid >= 500:\n",
    "        return 'Large'\n",
    "\n",
    "tornadoes['wid_category'] = tornadoes['wid'].apply(wid_categories2)\n",
    "tornadoes['wid_category']"
   ]
  },
  {
   "cell_type": "markdown",
   "id": "ff98b9a8",
   "metadata": {},
   "source": [
    "**create `Track Length`** \n",
    "iterate thru `len` and classify into three classes based on tornado track length (the path in which the tornado takes while it is touching the ground).  \n",
    " *get source for class info.*  \n",
    " *also consider changing name to be more like wid_length OR vice versa.*  "
   ]
  },
  {
   "cell_type": "code",
   "execution_count": null,
   "id": "4f10cb0e",
   "metadata": {},
   "outputs": [],
   "source": [
    "# Create new column that classifies each tornado by length\n",
    "def len_categories(len):\n",
    "    if len < 10:\n",
    "        return 'Short_Track (< 10 Miles)'\n",
    "    elif len >= 10 and len < 50:\n",
    "        return 'Medium-Track (10 - 50 Miles)'\n",
    "    elif len >= 50:\n",
    "        return 'Long-Track (>= 50 Miles)'\n",
    "\n",
    "tornadoes['Track Length'] = tornadoes['len'].apply(len_categories)\n",
    "tornadoes['Track Length']"
   ]
  },
  {
   "cell_type": "markdown",
   "id": "6e40b198",
   "metadata": {},
   "source": [
    "**create `in_alley`**  \n",
    "using the inside of longitudes -105 and -95 as a general 'tornado alley', classifies each tornado based on it's `slon` (starting longitude) as either 'inside' or 'outside' tonrado alley  \n",
    "*get source for this info.*  "
   ]
  },
  {
   "cell_type": "code",
   "execution_count": null,
   "id": "2ce5cad8",
   "metadata": {},
   "outputs": [],
   "source": [
    "# Create new column that classifies each tornado by its location (inside tornado alley, outside tornado alley)\n",
    "def inside_outside(slon):\n",
    "    if slon >= -105 and slon <= -95:\n",
    "        return 'Inside Tornado Alley'\n",
    "    else:\n",
    "        return 'Outside Tornado Alley'\n",
    "\n",
    "tornadoes['in_alley'] = tornadoes['slon'].apply(inside_outside)\n",
    "tornadoes['in_alley']"
   ]
  },
  {
   "cell_type": "markdown",
   "id": "97a21b4b",
   "metadata": {},
   "source": [
    "**create subset dfs, `tornadoes_1950s` thru `tornadoes_2010s`**  \n",
    "*might use for examining seasonality and/or geographical representations*  "
   ]
  },
  {
   "cell_type": "code",
   "execution_count": null,
   "id": "8f0233a7",
   "metadata": {},
   "outputs": [],
   "source": [
    "# Create subsets of tornadoes for each decade\n",
    "tornadoes_1950s = tornadoes.query(\"decade == 1950\")\n",
    "tornadoes_1960s = tornadoes.query(\"decade == 1960\")\n",
    "tornadoes_1970s = tornadoes.query(\"decade == 1970\")\n",
    "tornadoes_1980s = tornadoes.query(\"decade == 1980\")\n",
    "tornadoes_1990s = tornadoes.query(\"decade == 1990\")\n",
    "tornadoes_2000s = tornadoes.query(\"decade == 2000\")\n",
    "tornadoes_2010s = tornadoes.query(\"decade == 2010\")"
   ]
  },
  {
   "cell_type": "markdown",
   "id": "2809002a",
   "metadata": {},
   "source": [
    "### 2. Visualization\n",
    "**Tornado frequencies over time**  \n",
    "*Below, we can see that the overall count of all tornadoes is increasing over time.*  \n",
    "\n",
    "*Then, we break this down into those tornadoes inside and outside tornado alley. It appears that tornadoes are increasing in frequency outside tornado alley. this suggests that either the area we consider \"tornado alley\" is either shifting or widening (tornadoes are spilling out).*  \n",
    "\n",
    "*Using different width classifications, we notice that different widths of tornadoes appear to be increasing at different rates. we definitely see an increased frequency of medium and large width tornadoes, with narrow ones remaining the same or decreaing. This might suggest that overall, tornados are getting bigger.*  \n",
    "\n",
    "*We also do this with tornado track lengths. it seems that short-track and medium-track tornadoes are increasing in frequency, but long-track ones don't seem to be changing much.*  \n",
    "\n",
    "**all tornadoes:**"
   ]
  },
  {
   "cell_type": "code",
   "execution_count": null,
   "id": "e6142c01",
   "metadata": {},
   "outputs": [],
   "source": [
    "# Visualize simple frequencies of all tornadoes over time\n",
    "import matplotlib.pyplot as plt\n",
    "import seaborn as sns\n",
    "\n",
    "# Create figure\n",
    "sns.set_style('darkgrid')\n",
    "f, ax = plt.subplots(figsize=(12, 6))\n",
    "sns.despine()\n",
    "sns.histplot(x='yr', data=tornadoes, color='black', ax=ax, bins=12)\n",
    "ax.set_title('Tornado Frequency over time (1950-2022)', weight='bold')"
   ]
  },
  {
   "cell_type": "markdown",
   "id": "92153b9d",
   "metadata": {},
   "source": [
    "**by location (in/out of tornado alley):**"
   ]
  },
  {
   "cell_type": "code",
   "execution_count": null,
   "id": "019a8253",
   "metadata": {},
   "outputs": [],
   "source": [
    "sns.set_style('darkgrid')\n",
    "f, ax = plt.subplots(figsize=(12, 6))\n",
    "sns.despine()\n",
    "sns.histplot(x='yr', data=tornadoes, hue='in_alley', ax=ax, bins=12)\n",
    "ax.set_title('Tornado frequencies (inside, outside tornado alley) over Time (1950-2022)', weight='bold')"
   ]
  },
  {
   "cell_type": "markdown",
   "id": "fc78c988",
   "metadata": {},
   "source": [
    "**by width:**"
   ]
  },
  {
   "cell_type": "code",
   "execution_count": null,
   "id": "0e49ff76",
   "metadata": {},
   "outputs": [],
   "source": [
    "# Histogram of the number of different sized tornadoes over time \n",
    "\n",
    "# Filter tornadoes by width \n",
    "high_wid = tornadoes[tornadoes['wid'] >= 500]\n",
    "med_wid = tornadoes[(tornadoes['wid'] >= 50) & (tornadoes['wid'] < 500)]\n",
    "low_wid = tornadoes[tornadoes['wid'] < 50]\n",
    "\n",
    "sns.set_style('darkgrid')\n",
    "f, ax = plt.subplots(figsize=(12, 6))\n",
    "sns.despine()\n",
    "sns.histplot(x='yr', data=low_wid, color=\"Blue\", ax=ax, bins=12)\n",
    "sns.histplot(x='yr', data=med_wid, color=\"Yellow\", ax=ax, bins=12)\n",
    "sns.histplot(x='yr', data=high_wid, color=\"Green\", ax=ax, bins=12)\n",
    "ax.set_title('Tornado Frequencies over Time (1950-2022) and widths', weight='bold')\n",
    "ax.set_xlabel('Year', weight='bold')\n",
    "ax.set_ylabel('Number of tornadoes', weight='bold')\n",
    "\n",
    "legend_labels=['Narrow (< 50 Yards)', 'Medium (50 - 500 Yards)', 'Large (>= 500 Yards)']\n",
    "legend_colors=['Blue', 'Yellow', 'Green']\n",
    "legend_handles = [plt.Line2D([0], [0], marker='s', color='White', label=label, \n",
    "                             markersize=11, markerfacecolor=color, linestyle='None') \n",
    "                  for label, color in zip(legend_labels, legend_colors)]\n",
    "ax.legend(handles=legend_handles, title='Tornado Width')"
   ]
  },
  {
   "cell_type": "markdown",
   "id": "11455f82",
   "metadata": {},
   "source": [
    "### 3. statistical analysis\n",
    "**starting to visualize descriptive statistics of numerical columns**  \n",
    "*probably could use some more basic univariate visualizations and discussion*  \n",
    "\n",
    "**various bivariate/multivariate exploratory plots are below**  \n",
    "*needs some cleanup and discussion*  "
   ]
  },
  {
   "cell_type": "code",
   "execution_count": null,
   "id": "89173d9c",
   "metadata": {},
   "outputs": [],
   "source": [
    "f, ax = plt.subplots(figsize=(12, 6))\n",
    "sns.despine()\n",
    "sns.boxplot(x='decade', y='wid', data=high_wid, palette='Pastel2')\n",
    "ax.set_title('Large-Width (>= 500 Yard) Tornadoes by Decade (1950-2022)', weight='bold')\n",
    "ax.set_xlabel('Decade', weight='bold')\n",
    "ax.set_ylabel('Width (Yards)', weight='bold')"
   ]
  },
  {
   "cell_type": "code",
   "execution_count": null,
   "id": "16daddc5",
   "metadata": {},
   "outputs": [],
   "source": [
    "f, ax = plt.subplots(figsize=(12, 6))\n",
    "sns.despine()\n",
    "sns.boxplot(x='decade', y='wid', data=med_wid, palette='Pastel2')\n",
    "ax.set_title('Medium-Width (50 - 500 Yard) Tornadoes by Decade (1950-2022)', weight='bold')\n",
    "ax.set_xlabel('Decade', weight='bold')\n",
    "ax.set_ylabel('Width (Yards)', weight='bold')"
   ]
  },
  {
   "cell_type": "code",
   "execution_count": null,
   "id": "198a5e01",
   "metadata": {},
   "outputs": [],
   "source": [
    "f, ax = plt.subplots(figsize=(12, 6))\n",
    "sns.despine()\n",
    "sns.boxplot(x='decade', y='wid', hue='in_alley', data=high_wid, palette='Pastel2')\n",
    "ax.set_title('High-Width (500+ Yard) Tornadoes by Decade (1950-2022)', weight='bold')\n",
    "ax.set_xlabel('Decade', weight='bold')\n",
    "ax.set_ylabel('Width (Yards)', weight='bold')"
   ]
  },
  {
   "cell_type": "markdown",
   "id": "2cd8f05e",
   "metadata": {},
   "source": [
    "**what is the frequency of tornadoes across states and regions? what about for larger (higher mag, larger wid, longer len) tornadoes?**\n",
    "- The top 10 states of all time as well as the regions are shown below.   \n",
    "*As expected, southern and midwestern regions ad their states are the most common*  \n",
    "*Visualize this over time*  \n",
    "*Put total frequency and in/out tornado alley stuff here*"
   ]
  },
  {
   "cell_type": "code",
   "execution_count": null,
   "id": "bd11e1fb",
   "metadata": {},
   "outputs": [],
   "source": [
    "# Group by year and get the count of each wid category tornadoes for each year\n",
    "low_wid_counts = low_wid.groupby('yr').size().reset_index(name='count')\n",
    "med_wid_counts = med_wid.groupby('yr').size().reset_index(name='count')\n",
    "high_wid_counts = high_wid.groupby('yr').size().reset_index(name='count')"
   ]
  },
  {
   "cell_type": "code",
   "execution_count": null,
   "id": "2a274df8",
   "metadata": {},
   "outputs": [],
   "source": [
    "# Group by year and get the count of each wid category tornadoes for each year\n",
    "low_wid_counts2 = low_wid.groupby(['yr', 'in_alley']).size().reset_index(name='count')\n",
    "med_wid_counts2 = med_wid.groupby(['yr', 'in_alley']).size().reset_index(name='count')\n",
    "high_wid_counts2 = high_wid.groupby(['yr', 'in_alley']).size().reset_index(name='count')\n",
    "\n",
    "low_wid_counts2 = low_wid_counts2.pivot(index='yr', columns='in_alley', values='count').reset_index()\n",
    "med_wid_counts2 = med_wid_counts2.pivot(index='yr', columns='in_alley', values='count').reset_index()\n",
    "high_wid_counts2 = high_wid_counts2.pivot(index='yr', columns='in_alley', values='count').reset_index()\n",
    "\n",
    "low_wid_counts2.columns.name = None \n",
    "med_wid_counts2.columns.name = None \n",
    "high_wid_counts2.columns.name = None "
   ]
  },
  {
   "cell_type": "code",
   "execution_count": null,
   "id": "a8663df0",
   "metadata": {},
   "outputs": [],
   "source": [
    "import numpy as np\n",
    "\n",
    "# read the csv file\n",
    "df = tornadoes\n",
    "# Filter and group the data by year to analyze trends over time\n",
    "df['date'] = pd.to_datetime(df['date'])  # Convert the 'date' column to a datetime object\n",
    "df['yr'] = df['date'].dt.year  # Extract the year from the 'date' column\n",
    "# Group by year and calculate property loss and fatalities\n",
    "property_loss_by_year = df.groupby('yr')['loss'].sum()\n",
    "fatalities_by_year = df.groupby('yr')['fat'].sum()\n",
    "# Calculate mean and median for property loss and fatalities for each year\n",
    "property_loss_mean = df.groupby('yr')['loss'].mean()\n",
    "property_loss_median = df.groupby('yr')['loss'].median()\n",
    "fatalities_mean = df.groupby('yr')['fat'].mean()\n",
    "fatalities_median = df.groupby('yr')['fat'].median()\n",
    "# tornado path length\n",
    "path_length_mean = df.groupby('yr')['len'].mean()\n",
    "path_length_median = df.groupby('yr')['len'].median()\n",
    "# tornado severity\n",
    "tornado_severity_mean = df.groupby('yr')['mag'].mean()\n",
    "all_avg_severity = df['mag'].mean()\n",
    "tornado_severity_median = df.groupby('yr')['mag'].median()\n",
    "\n",
    "plt.figure(figsize=(10, 3))\n",
    "plt.subplot(1, 1, 1)\n",
    "plt.plot(tornado_severity_mean.index, tornado_severity_mean, label='Average Severity', color='red')\n",
    "plt.plot(tornado_severity_median.index, tornado_severity_median, label='Median Severity', color='purple')\n",
    "# plt.plot(0,all_avg_severity, label=\"Cumulative Avg Severity\", color='blue')\n",
    "plt.axhline(y=np.nanmean(df['mag']))\n",
    "plt.title('Tornado Severity Over Time')\n",
    "plt.xlabel('Year')\n",
    "plt.ylabel('Tornado Severity')\n",
    "plt.legend()\n",
    "plt.tight_layout()  \n",
    "plt.show()"
   ]
  },
  {
   "cell_type": "code",
   "execution_count": null,
   "id": "fac1c938",
   "metadata": {},
   "outputs": [],
   "source": [
    "injuries_by_year = df.groupby('yr')['inj'].sum()\n",
    "\n",
    "# Calculate mean and median for property loss and fatalities for each year\n",
    "injuries_mean = df.groupby('yr')['inj'].mean()\n",
    "injuries_median = df.groupby('yr')['inj'].median()\n",
    "\n",
    "#graph to represent loss, fatalities, path length, and tornado severity\n",
    "plt.figure(num=1,figsize=(10, 2))\n",
    "plt.subplot(1, 1, 1)\n",
    "plt.plot(property_loss_mean.index, property_loss_mean, label='Property Loss')\n",
    "plt.title('Avg Property Loss due to Tornadoes Over Time')\n",
    "plt.xlabel('Year')\n",
    "plt.ylabel('Property Loss (Dollars)')\n",
    "plt.legend()\n",
    "\n",
    "plt.figure(num=2,figsize=(10, 2))\n",
    "plt.subplot(1, 2, 1)\n",
    "plt.plot(fatalities_mean.index, fatalities_mean, label='Avg Fatalities')\n",
    "plt.title('Avg Fatalities due to Tornadoes Over Time')\n",
    "plt.xlabel('Year')\n",
    "plt.ylabel('Fatalities')\n",
    "plt.legend()\n",
    "plt.subplot(1, 2, 2)\n",
    "plt.plot(injuries_mean.index, injuries_mean, label='Avg Injuries')\n",
    "plt.title('Avg Injuries due to Tornadoes Over Time')\n",
    "plt.xlabel('Year')\n",
    "plt.ylabel('Number of Injuries')\n",
    "plt.legend()"
   ]
  }
 ],
 "metadata": {
  "kernelspec": {
   "display_name": "base",
   "language": "python",
   "name": "python3"
  },
  "language_info": {
   "codemirror_mode": {
    "name": "ipython",
    "version": 3
   },
   "file_extension": ".py",
   "mimetype": "text/x-python",
   "name": "python",
   "nbconvert_exporter": "python",
   "pygments_lexer": "ipython3",
   "version": "3.11.4"
  }
 },
 "nbformat": 4,
 "nbformat_minor": 5
}
